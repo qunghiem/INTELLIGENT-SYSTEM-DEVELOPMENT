{
 "cells": [
  {
   "cell_type": "code",
   "execution_count": 12,
   "metadata": {},
   "outputs": [
    {
     "ename": "ModuleNotFoundError",
     "evalue": "No module named 'cv2'",
     "output_type": "error",
     "traceback": [
      "\u001b[1;31m---------------------------------------------------------------------------\u001b[0m",
      "\u001b[1;31mModuleNotFoundError\u001b[0m                       Traceback (most recent call last)",
      "Cell \u001b[1;32mIn[12], line 3\u001b[0m\n\u001b[0;32m      1\u001b[0m \u001b[38;5;66;03m# Thư viện cần thiết\u001b[39;00m\n\u001b[0;32m      2\u001b[0m \u001b[38;5;28;01mimport\u001b[39;00m \u001b[38;5;21;01mnumpy\u001b[39;00m \u001b[38;5;28;01mas\u001b[39;00m \u001b[38;5;21;01mnp\u001b[39;00m\n\u001b[1;32m----> 3\u001b[0m \u001b[38;5;28;01mimport\u001b[39;00m \u001b[38;5;21;01mcv2\u001b[39;00m\n\u001b[0;32m      4\u001b[0m \u001b[38;5;28;01mimport\u001b[39;00m \u001b[38;5;21;01mmatplotlib\u001b[39;00m\u001b[38;5;21;01m.\u001b[39;00m\u001b[38;5;21;01mpyplot\u001b[39;00m \u001b[38;5;28;01mas\u001b[39;00m \u001b[38;5;21;01mplt\u001b[39;00m\n\u001b[0;32m      5\u001b[0m \u001b[38;5;28;01mimport\u001b[39;00m \u001b[38;5;21;01mtensorflow\u001b[39;00m \u001b[38;5;28;01mas\u001b[39;00m \u001b[38;5;21;01mtf\u001b[39;00m\n",
      "\u001b[1;31mModuleNotFoundError\u001b[0m: No module named 'cv2'"
     ]
    }
   ],
   "source": [
    "# Thư viện cần thiết\n",
    "import numpy as np\n",
    "import cv2\n",
    "import matplotlib.pyplot as plt\n",
    "import tensorflow as tf\n",
    "from tensorflow.keras.preprocessing.image import ImageDataGenerator\n",
    "\n",
    "# 1. Dữ liệu ảnh\n",
    "\n",
    "# Hàm đọc và biểu diễn ảnh\n",
    "def doc_va_bieu_dien_anh(duong_dan_anh):\n",
    "    # Đọc ảnh bằng OpenCV\n",
    "    anh = cv2.imread(duong_dan_anh)\n",
    "    \n",
    "    # Kiểm tra xem ảnh có được đọc thành công không\n",
    "    if anh is None:\n",
    "        print(f\"Không thể đọc ảnh từ đường dẫn: {duong_dan_anh}\")\n",
    "        return None\n",
    "    \n",
    "    # Chuyển đổi từ BGR sang RGB\n",
    "    anh_rgb = cv2.cvtColor(anh, cv2.COLOR_BGR2RGB)\n",
    "    \n",
    "    # Hiển thị thông tin ảnh\n",
    "    print(f\"Kích thước ảnh: {anh.shape}\")\n",
    "    print(f\"Kiểu dữ liệu: {anh.dtype}\")\n",
    "    \n",
    "    # Hiển thị ảnh\n",
    "    plt.imshow(anh_rgb)\n",
    "    plt.axis('off')\n",
    "    plt.show()\n",
    "    \n",
    "    return anh\n",
    "\n",
    "# Hàm chuẩn hóa ảnh\n",
    "def chuan_hoa_anh(anh):\n",
    "    # Chuẩn hóa giá trị pixel về khoảng [0, 1]\n",
    "    anh_chuan_hoa = anh.astype('float32') / 255.0\n",
    "    \n",
    "    # Chuẩn hóa theo phân phối (zero mean, unit variance)\n",
    "    anh_chuan_hoa = (anh_chuan_hoa - np.mean(anh_chuan_hoa)) / np.std(anh_chuan_hoa)\n",
    "    \n",
    "    return anh_chuan_hoa\n",
    "\n",
    "# 2. Áp dụng Deep Learning cho xử lý ảnh\n",
    "\n",
    "# Tăng cường dữ liệu ảnh\n",
    "def tang_cuong_du_lieu_anh(anh):\n",
    "    # Sử dụng ImageDataGenerator để tăng cường dữ liệu\n",
    "    data_generator = ImageDataGenerator(\n",
    "        rotation_range=20,\n",
    "        width_shift_range=0.2,\n",
    "        height_shift_range=0.2,\n",
    "        horizontal_flip=True\n",
    "    )\n",
    "    \n",
    "    # Mở rộng chiều của ảnh để phù hợp với generator\n",
    "    anh_expanded = np.expand_dims(anh, axis=0)\n",
    "    \n",
    "    # Tạo iterator cho việc tăng cường\n",
    "    generator = data_generator.flow(anh_expanded)\n",
    "    \n",
    "    # Lấy ảnh đã được tăng cường\n",
    "    anh_tang_cuong = next(generator)[0]\n",
    "    \n",
    "    return anh_tang_cuong\n",
    "\n",
    "# Hàm chính để thực thi\n",
    "def xu_ly_anh_chinh(duong_dan_anh):\n",
    "    # Bước 1: Đọc và biểu diễn ảnh\n",
    "    anh_goc = doc_va_bieu_dien_anh(duong_dan_anh)\n",
    "    \n",
    "    # Bước 2: Chuẩn hóa ảnh\n",
    "    anh_chuan_hoa = chuan_hoa_anh(anh_goc)\n",
    "    \n",
    "    # Bước 3: Tăng cường dữ liệu ảnh\n",
    "    anh_tang_cuong = tang_cuong_du_lieu_anh(anh_chuan_hoa)\n",
    "    \n",
    "    # Hiển thị ảnh sau khi tăng cường\n",
    "    plt.figure(figsize=(10, 5))\n",
    "    plt.subplot(1, 2, 1)\n",
    "    plt.title('Ảnh Gốc')\n",
    "    plt.imshow(anh_goc)\n",
    "    plt.axis('off')\n",
    "    \n",
    "    plt.subplot(1, 2, 2)\n",
    "    plt.title('Ảnh Tăng Cường')\n",
    "    plt.imshow(anh_tang_cuong)\n",
    "    plt.axis('off')\n",
    "    \n",
    "    plt.show()\n",
    "\n",
    "# Sử dụng hàm chính\n",
    "xu_ly_anh_chinh('duong_dan_toi_anh.jpg')"
   ]
  },
  {
   "cell_type": "code",
   "execution_count": 16,
   "metadata": {},
   "outputs": [
    {
     "name": "stdout",
     "output_type": "stream",
     "text": [
      "Lỗi import: No module named 'cv2'\n"
     ]
    }
   ],
   "source": [
    "# Trong Python Interactive hoặc script\n",
    "try:\n",
    "    import cv2\n",
    "    print(\"OpenCV version:\", cv2.__version__)\n",
    "except ImportError as e:\n",
    "    print(\"Lỗi import:\", e)"
   ]
  }
 ],
 "metadata": {
  "kernelspec": {
   "display_name": "base",
   "language": "python",
   "name": "python3"
  },
  "language_info": {
   "codemirror_mode": {
    "name": "ipython",
    "version": 3
   },
   "file_extension": ".py",
   "mimetype": "text/x-python",
   "name": "python",
   "nbconvert_exporter": "python",
   "pygments_lexer": "ipython3",
   "version": "3.12.3"
  }
 },
 "nbformat": 4,
 "nbformat_minor": 2
}
