{
 "cells": [
  {
   "cell_type": "code",
   "execution_count": 2,
   "metadata": {},
   "outputs": [],
   "source": [
    "import tkinter as tk\n",
    "from tkinter import messagebox\n",
    "import webbrowser\n",
    "\n",
    "# Hàm để mở Google Maps với vị trí dựa trên khu vực\n",
    "def open_maps():\n",
    "    location = entry_location.get()\n",
    "    if location:\n",
    "        # Tạo URL cho Google Maps với khu vực\n",
    "        url = f\"https://www.google.com/maps/search/?api=1&query={location}\"\n",
    "        webbrowser.open(url)  # Mở Google Maps trong trình duyệt mặc định\n",
    "    else:\n",
    "        messagebox.showwarning(\"Cảnh báo\", \"Vui lòng nhập khu vực!\")\n",
    "\n",
    "# Tạo cửa sổ chính\n",
    "root = tk.Tk()\n",
    "root.title(\"Dự đoán Bất Động Sản\")\n",
    "\n",
    "# Tạo các nhãn và trường nhập\n",
    "tk.Label(root, text=\"Diện tích (m²):\").grid(row=0, column=0, padx=10, pady=5)\n",
    "entry_area = tk.Entry(root, width=30)\n",
    "entry_area.grid(row=0, column=1, padx=10, pady=5)\n",
    "\n",
    "tk.Label(root, text=\"Hướng nhà:\").grid(row=1, column=0, padx=10, pady=5)\n",
    "entry_direction = tk.Entry(root, width=30)\n",
    "entry_direction.grid(row=1, column=1, padx=10, pady=5)\n",
    "\n",
    "tk.Label(root, text=\"Khu vực:\").grid(row=2, column=0, padx=10, pady=5)\n",
    "entry_location = tk.Entry(root, width=30)\n",
    "entry_location.grid(row=2, column=1, padx=10, pady=5)\n",
    "\n",
    "# Tạo nút \"Xem trên Google Maps\"\n",
    "btn_open_maps = tk.Button(root, text=\"Xem trên Google Maps\", command=open_maps, bg=\"#4CAF50\", fg=\"white\", width=30)\n",
    "btn_open_maps.grid(row=3, column=0, columnspan=2, padx=10, pady=20)\n",
    "\n",
    "# Khởi chạy giao diện\n",
    "root.mainloop()\n"
   ]
  }
 ],
 "metadata": {
  "kernelspec": {
   "display_name": "base",
   "language": "python",
   "name": "python3"
  },
  "language_info": {
   "codemirror_mode": {
    "name": "ipython",
    "version": 3
   },
   "file_extension": ".py",
   "mimetype": "text/x-python",
   "name": "python",
   "nbconvert_exporter": "python",
   "pygments_lexer": "ipython3",
   "version": "3.12.3"
  }
 },
 "nbformat": 4,
 "nbformat_minor": 2
}
