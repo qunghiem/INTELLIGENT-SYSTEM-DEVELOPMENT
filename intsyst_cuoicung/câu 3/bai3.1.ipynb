{
 "cells": [
  {
   "cell_type": "code",
   "execution_count": null,
   "metadata": {},
   "outputs": [
    {
     "data": {
      "text/plain": [
       "Index(['area', 'areaM2', 'balconyDirection', 'bedroom', 'bedroomCount',\n",
       "       'direction', 'floorCount', 'frontage', 'lat', 'legal', 'long', 'price',\n",
       "       'priceBil', 'priceExt', 'priceMil', 'pricePerM2', 'priceVnd', 'road',\n",
       "       'toiletCount'],\n",
       "      dtype='object')"
      ]
     },
     "execution_count": 3,
     "metadata": {},
     "output_type": "execute_result"
    }
   ],
   "source": [
    "import pandas as pd\n",
    "\n",
    "# Đường dẫn đến file mới tải lên\n",
    "file_path = 'data_goc.csv'\n",
    "\n",
    "# Đọc file CSV\n",
    "data = pd.read_csv(file_path)\n",
    "\n",
    "# Hiển thị tên các cột để kiểm tra\n",
    "columns_list = data.columns\n",
    "columns_list                            \n"
   ]
  },
  {
   "cell_type": "code",
   "execution_count": 6,
   "metadata": {},
   "outputs": [
    {
     "name": "stdout",
     "output_type": "stream",
     "text": [
      "Dữ liệu sau khi bổ sung thuộc tính và thêm cột mới:\n",
      "      area  aream2 balconydirection bedroom bedroomcount   direction  \\\n",
      "29  180 m²   180.0       Đông - Nam    4 PN      4 phòng  Đông - Nam   \n",
      "32   70 m²    70.0       Đông - Nam    4 PN      4 phòng  Đông - Nam   \n",
      "39   50 m²    50.0        Tây - Bắc    4 PN      4 phòng   Tây - Bắc   \n",
      "41   34 m²    34.0        Tây - Bắc    3 PN      3 phòng   Tây - Bắc   \n",
      "55   41 m²    41.0        Tây - Nam    4 PN      4 phòng   Tây - Nam   \n",
      "\n",
      "   floorcount frontage        lat            legal  ...  pricebil  \\\n",
      "29     3 tầng      9 m  20.980505   Sổ đỏ/ Sổ hồng  ...     36.00   \n",
      "32     3 tầng   13,5 m  20.967184   Sổ đỏ/ Sổ hồng  ...     16.80   \n",
      "39     5 tầng      7 m  20.968324   Sổ đỏ/ Sổ hồng  ...     17.50   \n",
      "41     4 tầng   3,02 m  20.926441   Sổ đỏ/ Sổ hồng  ...      2.78   \n",
      "55     4 tầng    3,5 m  20.967894  Sổ đỏ/ Sổ hồng.  ...      6.50   \n",
      "\n",
      "            priceext  pricemil  priceperm2     pricevnd   road  toiletcount  \\\n",
      "29     ~200 triệu/m²     36000  200.000000  36000000000   15 m      4 phòng   \n",
      "32     ~240 triệu/m²     16800  240.000000  16800000000   11 m      3 phòng   \n",
      "39     ~350 triệu/m²     17500  350.000000  17500000000   30 m      5 phòng   \n",
      "41   ~81,76 triệu/m²      2780   81.764706   2780000000    3 m      3 phòng   \n",
      "55  ~158,54 triệu/m²      6500  158.536585   6500000000  3,5 m      3 phòng   \n",
      "\n",
      "   khu_vuc  duong gia_theo_m2  \n",
      "29  180 m²   15 m         0.0  \n",
      "32   70 m²   11 m         0.0  \n",
      "39   50 m²   30 m         0.0  \n",
      "41   34 m²    3 m         0.0  \n",
      "55   41 m²  3,5 m         0.0  \n",
      "\n",
      "[5 rows x 22 columns]\n",
      "Dữ liệu đã được lưu vào file: data_da_xu_ly.csv\n"
     ]
    },
    {
     "name": "stderr",
     "output_type": "stream",
     "text": [
      "C:\\Users\\ADMIN\\AppData\\Local\\Temp\\ipykernel_18896\\3142975479.py:23: FutureWarning: A value is trying to be set on a copy of a DataFrame or Series through chained assignment using an inplace method.\n",
      "The behavior will change in pandas 3.0. This inplace method will never work because the intermediate object on which we are setting values always behaves as a copy.\n",
      "\n",
      "For example, when doing 'df[col].method(value, inplace=True)', try using 'df.method({col: value}, inplace=True)' or df[col] = df[col].method(value) instead, to perform the operation inplace on the original object.\n",
      "\n",
      "\n",
      "  data['gia_theo_m2'].fillna(0, inplace=True)  # Điền giá trị 0 nếu giá hoặc diện tích bị thiếu\n"
     ]
    }
   ],
   "source": [
    "import pandas as pd\n",
    "\n",
    "# Đường dẫn đến file\n",
    "file_path = 'data_goc.csv'\n",
    "\n",
    "# Đọc file CSV\n",
    "data = pd.read_csv(file_path)\n",
    "\n",
    "# Tiền xử lý dữ liệu\n",
    "data.dropna(inplace=True)\n",
    "data.columns = data.columns.str.lower()\n",
    "\n",
    "# Chuyển đổi các cột 'price' và 'aream2' sang kiểu số, lỗi sẽ chuyển thành NaN\n",
    "data['price'] = pd.to_numeric(data['price'], errors='coerce')\n",
    "data['aream2'] = pd.to_numeric(data['aream2'], errors='coerce')\n",
    "\n",
    "# Thêm thuộc tính khu vực và đường\n",
    "data['khu_vuc'] = data['area']\n",
    "data['duong'] = data['road']\n",
    "\n",
    "# Tạo cột 'gia_theo_m2' tính giá trị mỗi mét vuông (tránh lỗi chia cho 0)\n",
    "data['gia_theo_m2'] = data['price'] / data['aream2']\n",
    "data['gia_theo_m2'].fillna(0, inplace=True)  # Điền giá trị 0 nếu giá hoặc diện tích bị thiếu\n",
    "\n",
    "# Kiểm tra dữ liệu sau khi thêm các cột\n",
    "print(\"Dữ liệu sau khi bổ sung thuộc tính và thêm cột mới:\")\n",
    "print(data.head())\n",
    "\n",
    "# Lưu lại dữ liệu đã xử lý\n",
    "output_path = 'data_da_xu_ly.csv'\n",
    "data.to_csv(output_path, index=False)\n",
    "print(f\"Dữ liệu đã được lưu vào file: {output_path}\")\n"
   ]
  }
 ],
 "metadata": {
  "kernelspec": {
   "display_name": "base",
   "language": "python",
   "name": "python3"
  },
  "language_info": {
   "codemirror_mode": {
    "name": "ipython",
    "version": 3
   },
   "file_extension": ".py",
   "mimetype": "text/x-python",
   "name": "python",
   "nbconvert_exporter": "python",
   "pygments_lexer": "ipython3",
   "version": "3.12.3"
  }
 },
 "nbformat": 4,
 "nbformat_minor": 2
}
