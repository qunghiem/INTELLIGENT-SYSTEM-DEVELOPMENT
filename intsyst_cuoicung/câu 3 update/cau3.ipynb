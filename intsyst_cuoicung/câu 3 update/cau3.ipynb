{
 "cells": [
  {
   "cell_type": "code",
   "execution_count": 1,
   "metadata": {},
   "outputs": [],
   "source": [
    "import numpy as np\n",
    "import pandas as pd\n",
    "import matplotlib.pyplot as plt\n"
   ]
  },
  {
   "cell_type": "code",
   "execution_count": null,
   "metadata": {},
   "outputs": [
    {
     "name": "stdout",
     "output_type": "stream",
     "text": [
      "Dữ liệu đã được bổ sung và lưu vào file mới.\n"
     ]
    }
   ],
   "source": [
    "import pandas as pd\n",
    "import random\n",
    "from datetime import datetime\n",
    "\n",
    "# Đọc file gốc (file có các thông tin cơ bản về nhà đất)\n",
    "df = pd.read_csv('nhadathadong.csv')\n",
    "\n",
    "# Thêm các cột mới vào bảng dữ liệu\n",
    "df['Ngày'] = pd.to_datetime(datetime.today().strftime('%Y-%m-%d'))  # Thêm cột Ngày, lấy ngày hiện tại\n",
    "\n",
    "# Các quận Hà Nội để thêm vào thông tin nhà đất\n",
    "quans_hanoi = [\n",
    "    \"Hoàn Kiếm\", \"Ba Đình\", \"Tây Hồ\", \"Cầu Giấy\", \"Đống Đa\", \"Hai Bà Trưng\", \n",
    "    \"Long Biên\", \"Hoàng Mai\", \"Thanh Xuân\", \"Nam Từ Liêm\", \"Bắc Từ Liêm\", \"Sóc Sơn\", \n",
    "    \"Mê Linh\", \"Gia Lâm\", \"Thanh Trì\", \"Sơn Tây\", \"Phú Xuyên\", \"Chương Mỹ\", \n",
    "    \"Ứng Hòa\", \"Mỹ Đức\", \"Đan Phượng\", \"Hoài Đức\", \"Ba Vì\", \"Thạch Thất\", \n",
    "    \"Quốc Oai\", \"Thanh Oai\", \"Phú Xuyên\", \"Thường Tín\", \"Đông Anh\"\n",
    "]\n",
    "\n",
    "# Địa chỉ giả lập, mỗi căn nhà thuộc một quận Hà Nội ngẫu nhiên\n",
    "df['Địa chỉ'] = [f\"{random.choice(quans_hanoi)} - {random.randint(1, 100)}\" for _ in range(len(df))]  # Địa chỉ giả lập\n",
    "\n",
    "# Khu vực: Gắn tên quận Hà Nội vào Khu vực\n",
    "df['Quận'] = [f\"{random.choice(quans_hanoi)}, Hà Nội\" for _ in range(len(df))]  # Khu vực giả lập với quận Hà Nội\n",
    "\n",
    "# Các thông tin khác vẫn giữ như cũ\n",
    "df['Đường'] = [\"Nguyễn Văn A\", \"Lê Thị B\"] * (len(df) // 2) + [\"Nguyễn Văn A\"] * (len(df) % 2)  # Đường giả lập\n",
    "df['Diện tích'] = [random.choice([50, 70, 100, 120]) for _ in range(len(df))]  # Diện tích ngẫu nhiên (m²)\n",
    "df['Số phòng'] = [random.choice([2, 3, 4, 5]) for _ in range(len(df))]  # Số phòng ngẫu nhiên\n",
    "df['Loại nhà'] = [\"Căn hộ\", \"Biệt thự\", \"Nhà riêng\"] * (len(df) // 3) + [\"Căn hộ\"] * (len(df) % 3)  # Loại nhà giả\n",
    "df['Số tầng'] = [random.choice([1, 2, 3]) for _ in range(len(df))]  # Số tầng ngẫu nhiên\n",
    "df['Hướng nhà'] = [\"Đông\", \"Tây\", \"Nam\", \"Bắc\"] * (len(df) // 4) + [\"Đông\"] * (len(df) % 4)  # Hướng nhà giả\n",
    "df['Tiện ích'] = [\"Gần trường học, bệnh viện\", \"Gần công viên, trung tâm thương mại\"] * (len(df) // 2) + [\"Gần trường học, bệnh viện\"] * (len(df) % 2)  # Tiện ích giả\n",
    "df['Tình trạng'] = [\"Mới xây\", \"Đã qua sử dụng\", \"Cần sửa chữa\"] * (len(df) // 3) + [\"Mới xây\"] * (len(df) % 3)  # Tình trạng nhà giả\n",
    "df['Giá bán'] = [random.choice([1500000000, 2000000000, 2500000000, 3000000000]) for _ in range(len(df))]  # Giá bán ngẫu nhiên (VND)\n",
    "\n",
    "# Lưu dữ liệu đã bổ sung vào một file mới\n",
    "df.to_csv('file_nha_dat_bosung.csv', index=False)\n",
    "\n",
    "print(\"Dữ liệu đã được bổ sung và lưu vào file mới.\")\n"
   ]
  },
  {
   "cell_type": "code",
   "execution_count": null,
   "metadata": {},
   "outputs": [
    {
     "data": {
      "text/html": [
       "<div>\n",
       "<style scoped>\n",
       "    .dataframe tbody tr th:only-of-type {\n",
       "        vertical-align: middle;\n",
       "    }\n",
       "\n",
       "    .dataframe tbody tr th {\n",
       "        vertical-align: top;\n",
       "    }\n",
       "\n",
       "    .dataframe thead th {\n",
       "        text-align: right;\n",
       "    }\n",
       "</style>\n",
       "<table border=\"1\" class=\"dataframe\">\n",
       "  <thead>\n",
       "    <tr style=\"text-align: right;\">\n",
       "      <th></th>\n",
       "      <th>area</th>\n",
       "      <th>areaM2</th>\n",
       "      <th>balconyDirection</th>\n",
       "      <th>bedroom</th>\n",
       "      <th>bedroomCount</th>\n",
       "      <th>direction</th>\n",
       "      <th>floorCount</th>\n",
       "      <th>frontage</th>\n",
       "      <th>lat</th>\n",
       "      <th>legal</th>\n",
       "      <th>...</th>\n",
       "      <th>Quận</th>\n",
       "      <th>Đường</th>\n",
       "      <th>Diện tích</th>\n",
       "      <th>Số phòng</th>\n",
       "      <th>Loại nhà</th>\n",
       "      <th>Số tầng</th>\n",
       "      <th>Hướng nhà</th>\n",
       "      <th>Tiện ích</th>\n",
       "      <th>Tình trạng</th>\n",
       "      <th>Giá bán</th>\n",
       "    </tr>\n",
       "  </thead>\n",
       "  <tbody>\n",
       "    <tr>\n",
       "      <th>0</th>\n",
       "      <td>92 m²</td>\n",
       "      <td>92.0</td>\n",
       "      <td>NaN</td>\n",
       "      <td>3 PN</td>\n",
       "      <td>3 phòng</td>\n",
       "      <td>NaN</td>\n",
       "      <td>NaN</td>\n",
       "      <td>NaN</td>\n",
       "      <td>20.979528</td>\n",
       "      <td>Hợp đồng mua bán</td>\n",
       "      <td>...</td>\n",
       "      <td>Ba Đình, Hà Nội</td>\n",
       "      <td>Nguyễn Văn A</td>\n",
       "      <td>120</td>\n",
       "      <td>4</td>\n",
       "      <td>Căn hộ</td>\n",
       "      <td>2</td>\n",
       "      <td>Đông</td>\n",
       "      <td>Gần trường học, bệnh viện</td>\n",
       "      <td>Mới xây</td>\n",
       "      <td>1500000000</td>\n",
       "    </tr>\n",
       "    <tr>\n",
       "      <th>1</th>\n",
       "      <td>100 m²</td>\n",
       "      <td>100.0</td>\n",
       "      <td>NaN</td>\n",
       "      <td>NaN</td>\n",
       "      <td>NaN</td>\n",
       "      <td>NaN</td>\n",
       "      <td>NaN</td>\n",
       "      <td>5 m</td>\n",
       "      <td>20.979240</td>\n",
       "      <td>NaN</td>\n",
       "      <td>...</td>\n",
       "      <td>Mê Linh, Hà Nội</td>\n",
       "      <td>Lê Thị B</td>\n",
       "      <td>50</td>\n",
       "      <td>5</td>\n",
       "      <td>Biệt thự</td>\n",
       "      <td>1</td>\n",
       "      <td>Tây</td>\n",
       "      <td>Gần công viên, trung tâm thương mại</td>\n",
       "      <td>Đã qua sử dụng</td>\n",
       "      <td>1500000000</td>\n",
       "    </tr>\n",
       "    <tr>\n",
       "      <th>2</th>\n",
       "      <td>80 m²</td>\n",
       "      <td>80.0</td>\n",
       "      <td>NaN</td>\n",
       "      <td>NaN</td>\n",
       "      <td>NaN</td>\n",
       "      <td>Tây - Bắc</td>\n",
       "      <td>NaN</td>\n",
       "      <td>4 m</td>\n",
       "      <td>20.979240</td>\n",
       "      <td>Sổ đỏ</td>\n",
       "      <td>...</td>\n",
       "      <td>Quốc Oai, Hà Nội</td>\n",
       "      <td>Nguyễn Văn A</td>\n",
       "      <td>100</td>\n",
       "      <td>4</td>\n",
       "      <td>Nhà riêng</td>\n",
       "      <td>2</td>\n",
       "      <td>Nam</td>\n",
       "      <td>Gần trường học, bệnh viện</td>\n",
       "      <td>Cần sửa chữa</td>\n",
       "      <td>2000000000</td>\n",
       "    </tr>\n",
       "    <tr>\n",
       "      <th>3</th>\n",
       "      <td>60 m²</td>\n",
       "      <td>60.0</td>\n",
       "      <td>NaN</td>\n",
       "      <td>NaN</td>\n",
       "      <td>NaN</td>\n",
       "      <td>Tây - Bắc</td>\n",
       "      <td>NaN</td>\n",
       "      <td>5 m</td>\n",
       "      <td>20.968100</td>\n",
       "      <td>Sổ đỏ/ Sổ hồng</td>\n",
       "      <td>...</td>\n",
       "      <td>Hoài Đức, Hà Nội</td>\n",
       "      <td>Lê Thị B</td>\n",
       "      <td>70</td>\n",
       "      <td>4</td>\n",
       "      <td>Căn hộ</td>\n",
       "      <td>2</td>\n",
       "      <td>Bắc</td>\n",
       "      <td>Gần công viên, trung tâm thương mại</td>\n",
       "      <td>Mới xây</td>\n",
       "      <td>3000000000</td>\n",
       "    </tr>\n",
       "    <tr>\n",
       "      <th>4</th>\n",
       "      <td>75,3 m²</td>\n",
       "      <td>NaN</td>\n",
       "      <td>NaN</td>\n",
       "      <td>NaN</td>\n",
       "      <td>NaN</td>\n",
       "      <td>NaN</td>\n",
       "      <td>NaN</td>\n",
       "      <td>NaN</td>\n",
       "      <td>20.984566</td>\n",
       "      <td>NaN</td>\n",
       "      <td>...</td>\n",
       "      <td>Quốc Oai, Hà Nội</td>\n",
       "      <td>Nguyễn Văn A</td>\n",
       "      <td>100</td>\n",
       "      <td>3</td>\n",
       "      <td>Biệt thự</td>\n",
       "      <td>2</td>\n",
       "      <td>Đông</td>\n",
       "      <td>Gần trường học, bệnh viện</td>\n",
       "      <td>Đã qua sử dụng</td>\n",
       "      <td>2500000000</td>\n",
       "    </tr>\n",
       "  </tbody>\n",
       "</table>\n",
       "<p>5 rows × 31 columns</p>\n",
       "</div>"
      ],
      "text/plain": [
       "      area  areaM2 balconyDirection bedroom bedroomCount  direction  \\\n",
       "0    92 m²    92.0              NaN    3 PN      3 phòng        NaN   \n",
       "1   100 m²   100.0              NaN     NaN          NaN        NaN   \n",
       "2    80 m²    80.0              NaN     NaN          NaN  Tây - Bắc   \n",
       "3    60 m²    60.0              NaN     NaN          NaN  Tây - Bắc   \n",
       "4  75,3 m²     NaN              NaN     NaN          NaN        NaN   \n",
       "\n",
       "  floorCount frontage        lat             legal  ...              Quận  \\\n",
       "0        NaN      NaN  20.979528  Hợp đồng mua bán  ...   Ba Đình, Hà Nội   \n",
       "1        NaN      5 m  20.979240               NaN  ...   Mê Linh, Hà Nội   \n",
       "2        NaN      4 m  20.979240             Sổ đỏ  ...  Quốc Oai, Hà Nội   \n",
       "3        NaN      5 m  20.968100    Sổ đỏ/ Sổ hồng  ...  Hoài Đức, Hà Nội   \n",
       "4        NaN      NaN  20.984566               NaN  ...  Quốc Oai, Hà Nội   \n",
       "\n",
       "          Đường  Diện tích Số phòng   Loại nhà  Số tầng  Hướng nhà  \\\n",
       "0  Nguyễn Văn A        120        4     Căn hộ        2       Đông   \n",
       "1      Lê Thị B         50        5   Biệt thự        1        Tây   \n",
       "2  Nguyễn Văn A        100        4  Nhà riêng        2        Nam   \n",
       "3      Lê Thị B         70        4     Căn hộ        2        Bắc   \n",
       "4  Nguyễn Văn A        100        3   Biệt thự        2       Đông   \n",
       "\n",
       "                              Tiện ích      Tình trạng     Giá bán  \n",
       "0            Gần trường học, bệnh viện         Mới xây  1500000000  \n",
       "1  Gần công viên, trung tâm thương mại  Đã qua sử dụng  1500000000  \n",
       "2            Gần trường học, bệnh viện    Cần sửa chữa  2000000000  \n",
       "3  Gần công viên, trung tâm thương mại         Mới xây  3000000000  \n",
       "4            Gần trường học, bệnh viện  Đã qua sử dụng  2500000000  \n",
       "\n",
       "[5 rows x 31 columns]"
      ]
     },
     "execution_count": 18,
     "metadata": {},
     "output_type": "execute_result"
    }
   ],
   "source": [
    "dataset_path = \"file_nha_dat_bosung.csv\"\n",
    "df = pd.read_csv(dataset_path)\n",
    "df.head()"
   ]
  },
  {
   "cell_type": "code",
   "execution_count": null,
   "metadata": {},
   "outputs": [
    {
     "name": "stdout",
     "output_type": "stream",
     "text": [
      "The total records of the dataset are:  71 records.\n"
     ]
    },
    {
     "data": {
      "text/plain": [
       "<BarContainer object of 10 artists>"
      ]
     },
     "execution_count": 19,
     "metadata": {},
     "output_type": "execute_result"
    },
    {
     "data": {
      "image/png": "[encoded data removed]",
      "text/plain": [
       "<Figure size 640x480 with 1 Axes>"
      ]
     },
     "metadata": {},
     "output_type": "display_data"
    }
   ],
   "source": [
    "print(\"The total records of the dataset are: \", str(len(df)), \"records.\")\n",
    "x = df['Quận'].value_counts().keys()\n",
    "plt.barh(x[:10], df['Quận'].value_counts()[:10])"
   ]
  },
  {
   "cell_type": "code",
   "execution_count": null,
   "metadata": {},
   "outputs": [
    {
     "data": {
      "text/plain": [
       "<BarContainer object of 6 artists>"
      ]
     },
     "execution_count": 25,
     "metadata": {},
     "output_type": "execute_result"
    },
    {
     "data": {
      "image/png": "[encoded data removed]",
      "text/plain": [
       "<Figure size 640x480 with 1 Axes>"
      ]
     },
     "metadata": {},
     "output_type": "display_data"
    }
   ],
   "source": [
    "x = df['bedroomCount'].value_counts()\n",
    "plt.barh(x.keys(), x)"
   ]
  },
  {
   "cell_type": "code",
   "execution_count": null,
   "metadata": {},
   "outputs": [
    {
     "data": {
      "text/plain": [
       "<BarContainer object of 3 artists>"
      ]
     },
     "execution_count": 21,
     "metadata": {},
     "output_type": "execute_result"
    },
    {
     "data": {
      "image/png": "[encoded data removed]",
      "text/plain": [
       "<Figure size 640x480 with 1 Axes>"
      ]
     },
     "metadata": {},
     "output_type": "display_data"
    }
   ],
   "source": [
    "x = df['Loại nhà'].value_counts()\n",
    "plt.barh(x.keys(), x)"
   ]
  },
  {
   "cell_type": "code",
   "execution_count": null,
   "metadata": {},
   "outputs": [
    {
     "data": {
      "text/plain": [
       "<BarContainer object of 3 artists>"
      ]
     },
     "execution_count": 22,
     "metadata": {},
     "output_type": "execute_result"
    },
    {
     "data": {
      "image/png": "[encoded data removed]",
      "text/plain": [
       "<Figure size 640x480 with 1 Axes>"
      ]
     },
     "metadata": {},
     "output_type": "display_data"
    }
   ],
   "source": [
    "x = df['Tình trạng'].value_counts()\n",
    "plt.barh(x.keys(), x)"
   ]
  },
  {
   "cell_type": "code",
   "execution_count": null,
   "metadata": {},
   "outputs": [
    {
     "data": {
      "text/plain": [
       "<BarContainer object of 3 artists>"
      ]
     },
     "execution_count": 23,
     "metadata": {},
     "output_type": "execute_result"
    },
    {
     "data": {
      "image/png": "[encoded data removed]",
      "text/plain": [
       "<Figure size 640x480 with 1 Axes>"
      ]
     },
     "metadata": {},
     "output_type": "display_data"
    }
   ],
   "source": [
    "x = df['Số tầng'].value_counts()\n",
    "plt.bar(x.keys()[:10], x[:10])"
   ]
  },
  {
   "cell_type": "code",
   "execution_count": null,
   "metadata": {},
   "outputs": [
    {
     "name": "stderr",
     "output_type": "stream",
     "text": [
      "C:\\Users\\ADMIN\\AppData\\Local\\Temp\\ipykernel_7316\\2757446954.py:28: RuntimeWarning: divide by zero encountered in log1p\n",
      "  y = np.log1p(y)\n",
      "c:\\Users\\ADMIN\\anaconda3\\Lib\\site-packages\\keras\\src\\layers\\convolutional\\base_conv.py:107: UserWarning: Do not pass an `input_shape`/`input_dim` argument to a layer. When using Sequential models, prefer using an `Input(shape)` object as the first layer in the model instead.\n",
      "  super().__init__(activity_regularizer=activity_regularizer, **kwargs)\n"
     ]
    },
    {
     "name": "stdout",
     "output_type": "stream",
     "text": [
      "Epoch 1/50\n",
      "\u001b[1m2/2\u001b[0m \u001b[32m━━━━━━━━━━━━━━━━━━━━\u001b[0m\u001b[37m\u001b[0m \u001b[1m7s\u001b[0m 812ms/step - loss: nan - mae: nan - val_loss: nan - val_mae: nan\n",
      "Epoch 2/50\n",
      "\u001b[1m2/2\u001b[0m \u001b[32m━━━━━━━━━━━━━━━━━━━━\u001b[0m\u001b[37m\u001b[0m \u001b[1m0s\u001b[0m 97ms/step - loss: nan - mae: nan - val_loss: nan - val_mae: nan\n",
      "Epoch 3/50\n",
      "\u001b[1m2/2\u001b[0m \u001b[32m━━━━━━━━━━━━━━━━━━━━\u001b[0m\u001b[37m\u001b[0m \u001b[1m0s\u001b[0m 96ms/step - loss: nan - mae: nan - val_loss: nan - val_mae: nan\n",
      "Epoch 4/50\n",
      "\u001b[1m2/2\u001b[0m \u001b[32m━━━━━━━━━━━━━━━━━━━━\u001b[0m\u001b[37m\u001b[0m \u001b[1m0s\u001b[0m 158ms/step - loss: nan - mae: nan - val_loss: nan - val_mae: nan\n",
      "Epoch 5/50\n",
      "\u001b[1m2/2\u001b[0m \u001b[32m━━━━━━━━━━━━━━━━━━━━\u001b[0m\u001b[37m\u001b[0m \u001b[1m0s\u001b[0m 267ms/step - loss: nan - mae: nan - val_loss: nan - val_mae: nan\n",
      "Epoch 6/50\n",
      "\u001b[1m2/2\u001b[0m \u001b[32m━━━━━━━━━━━━━━━━━━━━\u001b[0m\u001b[37m\u001b[0m \u001b[1m1s\u001b[0m 140ms/step - loss: nan - mae: nan - val_loss: nan - val_mae: nan\n",
      "Epoch 7/50\n",
      "\u001b[1m2/2\u001b[0m \u001b[32m━━━━━━━━━━━━━━━━━━━━\u001b[0m\u001b[37m\u001b[0m \u001b[1m0s\u001b[0m 136ms/step - loss: nan - mae: nan - val_loss: nan - val_mae: nan\n",
      "Epoch 8/50\n",
      "\u001b[1m2/2\u001b[0m \u001b[32m━━━━━━━━━━━━━━━━━━━━\u001b[0m\u001b[37m\u001b[0m \u001b[1m0s\u001b[0m 89ms/step - loss: nan - mae: nan - val_loss: nan - val_mae: nan\n",
      "Epoch 9/50\n",
      "\u001b[1m2/2\u001b[0m \u001b[32m━━━━━━━━━━━━━━━━━━━━\u001b[0m\u001b[37m\u001b[0m \u001b[1m0s\u001b[0m 106ms/step - loss: nan - mae: nan - val_loss: nan - val_mae: nan\n",
      "Epoch 10/50\n",
      "\u001b[1m2/2\u001b[0m \u001b[32m━━━━━━━━━━━━━━━━━━━━\u001b[0m\u001b[37m\u001b[0m \u001b[1m0s\u001b[0m 76ms/step - loss: nan - mae: nan - val_loss: nan - val_mae: nan\n",
      "Epoch 11/50\n",
      "\u001b[1m2/2\u001b[0m \u001b[32m━━━━━━━━━━━━━━━━━━━━\u001b[0m\u001b[37m\u001b[0m \u001b[1m0s\u001b[0m 144ms/step - loss: nan - mae: nan - val_loss: nan - val_mae: nan\n",
      "Epoch 12/50\n",
      "\u001b[1m2/2\u001b[0m \u001b[32m━━━━━━━━━━━━━━━━━━━━\u001b[0m\u001b[37m\u001b[0m \u001b[1m0s\u001b[0m 130ms/step - loss: nan - mae: nan - val_loss: nan - val_mae: nan\n",
      "Epoch 13/50\n",
      "\u001b[1m2/2\u001b[0m \u001b[32m━━━━━━━━━━━━━━━━━━━━\u001b[0m\u001b[37m\u001b[0m \u001b[1m0s\u001b[0m 126ms/step - loss: nan - mae: nan - val_loss: nan - val_mae: nan\n",
      "Epoch 14/50\n",
      "\u001b[1m2/2\u001b[0m \u001b[32m━━━━━━━━━━━━━━━━━━━━\u001b[0m\u001b[37m\u001b[0m \u001b[1m0s\u001b[0m 180ms/step - loss: nan - mae: nan - val_loss: nan - val_mae: nan\n",
      "Epoch 15/50\n",
      "\u001b[1m2/2\u001b[0m \u001b[32m━━━━━━━━━━━━━━━━━━━━\u001b[0m\u001b[37m\u001b[0m \u001b[1m0s\u001b[0m 114ms/step - loss: nan - mae: nan - val_loss: nan - val_mae: nan\n",
      "Epoch 16/50\n",
      "\u001b[1m2/2\u001b[0m \u001b[32m━━━━━━━━━━━━━━━━━━━━\u001b[0m\u001b[37m\u001b[0m \u001b[1m0s\u001b[0m 116ms/step - loss: nan - mae: nan - val_loss: nan - val_mae: nan\n",
      "Epoch 17/50\n",
      "\u001b[1m2/2\u001b[0m \u001b[32m━━━━━━━━━━━━━━━━━━━━\u001b[0m\u001b[37m\u001b[0m \u001b[1m0s\u001b[0m 74ms/step - loss: nan - mae: nan - val_loss: nan - val_mae: nan\n",
      "Epoch 18/50\n",
      "\u001b[1m2/2\u001b[0m \u001b[32m━━━━━━━━━━━━━━━━━━━━\u001b[0m\u001b[37m\u001b[0m \u001b[1m0s\u001b[0m 96ms/step - loss: nan - mae: nan - val_loss: nan - val_mae: nan\n",
      "Epoch 19/50\n",
      "\u001b[1m2/2\u001b[0m \u001b[32m━━━━━━━━━━━━━━━━━━━━\u001b[0m\u001b[37m\u001b[0m \u001b[1m0s\u001b[0m 193ms/step - loss: nan - mae: nan - val_loss: nan - val_mae: nan\n",
      "Epoch 20/50\n",
      "\u001b[1m2/2\u001b[0m \u001b[32m━━━━━━━━━━━━━━━━━━━━\u001b[0m\u001b[37m\u001b[0m \u001b[1m0s\u001b[0m 146ms/step - loss: nan - mae: nan - val_loss: nan - val_mae: nan\n",
      "Epoch 21/50\n",
      "\u001b[1m2/2\u001b[0m \u001b[32m━━━━━━━━━━━━━━━━━━━━\u001b[0m\u001b[37m\u001b[0m \u001b[1m0s\u001b[0m 185ms/step - loss: nan - mae: nan - val_loss: nan - val_mae: nan\n",
      "Epoch 22/50\n",
      "\u001b[1m2/2\u001b[0m \u001b[32m━━━━━━━━━━━━━━━━━━━━\u001b[0m\u001b[37m\u001b[0m \u001b[1m0s\u001b[0m 202ms/step - loss: nan - mae: nan - val_loss: nan - val_mae: nan\n",
      "Epoch 23/50\n",
      "\u001b[1m2/2\u001b[0m \u001b[32m━━━━━━━━━━━━━━━━━━━━\u001b[0m\u001b[37m\u001b[0m \u001b[1m0s\u001b[0m 139ms/step - loss: nan - mae: nan - val_loss: nan - val_mae: nan\n",
      "Epoch 24/50\n",
      "\u001b[1m2/2\u001b[0m \u001b[32m━━━━━━━━━━━━━━━━━━━━\u001b[0m\u001b[37m\u001b[0m \u001b[1m0s\u001b[0m 192ms/step - loss: nan - mae: nan - val_loss: nan - val_mae: nan\n",
      "Epoch 25/50\n",
      "\u001b[1m2/2\u001b[0m \u001b[32m━━━━━━━━━━━━━━━━━━━━\u001b[0m\u001b[37m\u001b[0m \u001b[1m0s\u001b[0m 169ms/step - loss: nan - mae: nan - val_loss: nan - val_mae: nan\n",
      "Epoch 26/50\n",
      "\u001b[1m2/2\u001b[0m \u001b[32m━━━━━━━━━━━━━━━━━━━━\u001b[0m\u001b[37m\u001b[0m \u001b[1m0s\u001b[0m 115ms/step - loss: nan - mae: nan - val_loss: nan - val_mae: nan\n",
      "Epoch 27/50\n",
      "\u001b[1m2/2\u001b[0m \u001b[32m━━━━━━━━━━━━━━━━━━━━\u001b[0m\u001b[37m\u001b[0m \u001b[1m0s\u001b[0m 97ms/step - loss: nan - mae: nan - val_loss: nan - val_mae: nan\n",
      "Epoch 28/50\n",
      "\u001b[1m2/2\u001b[0m \u001b[32m━━━━━━━━━━━━━━━━━━━━\u001b[0m\u001b[37m\u001b[0m \u001b[1m0s\u001b[0m 91ms/step - loss: nan - mae: nan - val_loss: nan - val_mae: nan\n",
      "Epoch 29/50\n",
      "\u001b[1m2/2\u001b[0m \u001b[32m━━━━━━━━━━━━━━━━━━━━\u001b[0m\u001b[37m\u001b[0m \u001b[1m0s\u001b[0m 117ms/step - loss: nan - mae: nan - val_loss: nan - val_mae: nan\n",
      "Epoch 30/50\n",
      "\u001b[1m2/2\u001b[0m \u001b[32m━━━━━━━━━━━━━━━━━━━━\u001b[0m\u001b[37m\u001b[0m \u001b[1m0s\u001b[0m 202ms/step - loss: nan - mae: nan - val_loss: nan - val_mae: nan\n",
      "Epoch 31/50\n",
      "\u001b[1m2/2\u001b[0m \u001b[32m━━━━━━━━━━━━━━━━━━━━\u001b[0m\u001b[37m\u001b[0m \u001b[1m0s\u001b[0m 126ms/step - loss: nan - mae: nan - val_loss: nan - val_mae: nan\n",
      "Epoch 32/50\n",
      "\u001b[1m2/2\u001b[0m \u001b[32m━━━━━━━━━━━━━━━━━━━━\u001b[0m\u001b[37m\u001b[0m \u001b[1m0s\u001b[0m 119ms/step - loss: nan - mae: nan - val_loss: nan - val_mae: nan\n",
      "Epoch 33/50\n",
      "\u001b[1m2/2\u001b[0m \u001b[32m━━━━━━━━━━━━━━━━━━━━\u001b[0m\u001b[37m\u001b[0m \u001b[1m0s\u001b[0m 87ms/step - loss: nan - mae: nan - val_loss: nan - val_mae: nan\n",
      "Epoch 34/50\n",
      "\u001b[1m2/2\u001b[0m \u001b[32m━━━━━━━━━━━━━━━━━━━━\u001b[0m\u001b[37m\u001b[0m \u001b[1m0s\u001b[0m 114ms/step - loss: nan - mae: nan - val_loss: nan - val_mae: nan\n",
      "Epoch 35/50\n",
      "\u001b[1m2/2\u001b[0m \u001b[32m━━━━━━━━━━━━━━━━━━━━\u001b[0m\u001b[37m\u001b[0m \u001b[1m0s\u001b[0m 121ms/step - loss: nan - mae: nan - val_loss: nan - val_mae: nan\n",
      "Epoch 36/50\n",
      "\u001b[1m2/2\u001b[0m \u001b[32m━━━━━━━━━━━━━━━━━━━━\u001b[0m\u001b[37m\u001b[0m \u001b[1m0s\u001b[0m 75ms/step - loss: nan - mae: nan - val_loss: nan - val_mae: nan\n",
      "Epoch 37/50\n",
      "\u001b[1m2/2\u001b[0m \u001b[32m━━━━━━━━━━━━━━━━━━━━\u001b[0m\u001b[37m\u001b[0m \u001b[1m0s\u001b[0m 83ms/step - loss: nan - mae: nan - val_loss: nan - val_mae: nan\n",
      "Epoch 38/50\n",
      "\u001b[1m2/2\u001b[0m \u001b[32m━━━━━━━━━━━━━━━━━━━━\u001b[0m\u001b[37m\u001b[0m \u001b[1m0s\u001b[0m 94ms/step - loss: nan - mae: nan - val_loss: nan - val_mae: nan\n",
      "Epoch 39/50\n",
      "\u001b[1m2/2\u001b[0m \u001b[32m━━━━━━━━━━━━━━━━━━━━\u001b[0m\u001b[37m\u001b[0m \u001b[1m0s\u001b[0m 78ms/step - loss: nan - mae: nan - val_loss: nan - val_mae: nan\n",
      "Epoch 40/50\n",
      "\u001b[1m2/2\u001b[0m \u001b[32m━━━━━━━━━━━━━━━━━━━━\u001b[0m\u001b[37m\u001b[0m \u001b[1m0s\u001b[0m 90ms/step - loss: nan - mae: nan - val_loss: nan - val_mae: nan\n",
      "Epoch 41/50\n",
      "\u001b[1m2/2\u001b[0m \u001b[32m━━━━━━━━━━━━━━━━━━━━\u001b[0m\u001b[37m\u001b[0m \u001b[1m0s\u001b[0m 127ms/step - loss: nan - mae: nan - val_loss: nan - val_mae: nan\n",
      "Epoch 42/50\n",
      "\u001b[1m2/2\u001b[0m \u001b[32m━━━━━━━━━━━━━━━━━━━━\u001b[0m\u001b[37m\u001b[0m \u001b[1m0s\u001b[0m 105ms/step - loss: nan - mae: nan - val_loss: nan - val_mae: nan\n",
      "Epoch 43/50\n",
      "\u001b[1m2/2\u001b[0m \u001b[32m━━━━━━━━━━━━━━━━━━━━\u001b[0m\u001b[37m\u001b[0m \u001b[1m0s\u001b[0m 84ms/step - loss: nan - mae: nan - val_loss: nan - val_mae: nan\n",
      "Epoch 44/50\n",
      "\u001b[1m2/2\u001b[0m \u001b[32m━━━━━━━━━━━━━━━━━━━━\u001b[0m\u001b[37m\u001b[0m \u001b[1m0s\u001b[0m 95ms/step - loss: nan - mae: nan - val_loss: nan - val_mae: nan\n",
      "Epoch 45/50\n",
      "\u001b[1m2/2\u001b[0m \u001b[32m━━━━━━━━━━━━━━━━━━━━\u001b[0m\u001b[37m\u001b[0m \u001b[1m0s\u001b[0m 104ms/step - loss: nan - mae: nan - val_loss: nan - val_mae: nan\n",
      "Epoch 46/50\n",
      "\u001b[1m2/2\u001b[0m \u001b[32m━━━━━━━━━━━━━━━━━━━━\u001b[0m\u001b[37m\u001b[0m \u001b[1m0s\u001b[0m 97ms/step - loss: nan - mae: nan - val_loss: nan - val_mae: nan\n",
      "Epoch 47/50\n",
      "\u001b[1m2/2\u001b[0m \u001b[32m━━━━━━━━━━━━━━━━━━━━\u001b[0m\u001b[37m\u001b[0m \u001b[1m0s\u001b[0m 81ms/step - loss: nan - mae: nan - val_loss: nan - val_mae: nan\n",
      "Epoch 48/50\n",
      "\u001b[1m2/2\u001b[0m \u001b[32m━━━━━━━━━━━━━━━━━━━━\u001b[0m\u001b[37m\u001b[0m \u001b[1m0s\u001b[0m 129ms/step - loss: nan - mae: nan - val_loss: nan - val_mae: nan\n",
      "Epoch 49/50\n",
      "\u001b[1m2/2\u001b[0m \u001b[32m━━━━━━━━━━━━━━━━━━━━\u001b[0m\u001b[37m\u001b[0m \u001b[1m0s\u001b[0m 116ms/step - loss: nan - mae: nan - val_loss: nan - val_mae: nan\n",
      "Epoch 50/50\n",
      "\u001b[1m2/2\u001b[0m \u001b[32m━━━━━━━━━━━━━━━━━━━━\u001b[0m\u001b[37m\u001b[0m \u001b[1m0s\u001b[0m 85ms/step - loss: nan - mae: nan - val_loss: nan - val_mae: nan\n",
      "\u001b[1m1/1\u001b[0m \u001b[32m━━━━━━━━━━━━━━━━━━━━\u001b[0m\u001b[37m\u001b[0m \u001b[1m0s\u001b[0m 93ms/step - loss: nan - mae: nan\n",
      "Test MAE for CNN Model: nan\n"
     ]
    }
   ],
   "source": [
    "import pandas as pd\n",
    "import numpy as np\n",
    "from sklearn.model_selection import train_test_split\n",
    "from sklearn.preprocessing import StandardScaler\n",
    "from tensorflow.keras.models import Sequential\n",
    "from tensorflow.keras.layers import Conv2D, MaxPooling2D, Flatten, Dense, Dropout\n",
    "\n",
    "# Đọc dữ liệu từ file CSV mà bạn đã tải lên\n",
    "data_file_path = 'file_nha_dat_bosung.csv'\n",
    "data = pd.read_csv(data_file_path)\n",
    "\n",
    "# Tiền xử lý dữ liệu\n",
    "data['priceVnd'] = pd.to_numeric(data['priceVnd'], errors='coerce')\n",
    "data['areaM2'] = pd.to_numeric(data['areaM2'], errors='coerce')\n",
    "data['lat'] = pd.to_numeric(data['lat'], errors='coerce')\n",
    "data['long'] = pd.to_numeric(data['long'], errors='coerce')\n",
    "data.dropna(subset=['priceVnd', 'areaM2', 'lat', 'long'], inplace=True)\n",
    "\n",
    "# Chọn các cột đặc trưng và nhãn\n",
    "X = data[['areaM2', 'lat', 'long']].values\n",
    "y = data['priceVnd'].values\n",
    "\n",
    "# Chuẩn hóa dữ liệu đầu vào\n",
    "scaler = StandardScaler()\n",
    "X = scaler.fit_transform(X)\n",
    "\n",
    "# Lấy log của giá trị `y` để giảm độ biến động của dữ liệu đầu ra\n",
    "y = np.log1p(y)\n",
    "\n",
    "# Chia dữ liệu thành tập huấn luyện và kiểm tra\n",
    "X_train, X_test, y_train, y_test = train_test_split(X, y, test_size=0.2, random_state=42)\n",
    "\n",
    "# Định hình lại dữ liệu cho CNN (thêm các chiều không gian)\n",
    "X_train_cnn = X_train.reshape((X_train.shape[0], 1, 1, X_train.shape[1]))  # Cho CNN với shape (batch_size, height, width, channels)\n",
    "X_test_cnn = X_test.reshape((X_test.shape[0], 1, 1, X_test.shape[1]))\n",
    "\n",
    "# Xây dựng mô hình CNN với 7 lớp\n",
    "model_cnn = Sequential()\n",
    "\n",
    "# Lớp Convolutional và MaxPooling\n",
    "model_cnn.add(Conv2D(32, (1, 1), activation='relu', input_shape=(1, 1, X_train.shape[1])))\n",
    "model_cnn.add(MaxPooling2D((1, 1)))\n",
    "\n",
    "# Lớp Convolutional và MaxPooling tiếp theo\n",
    "model_cnn.add(Conv2D(64, (1, 1), activation='relu'))\n",
    "model_cnn.add(MaxPooling2D((1, 1)))\n",
    "\n",
    "# Lớp Flatten\n",
    "model_cnn.add(Flatten())\n",
    "\n",
    "# Lớp Dense và Dropout\n",
    "model_cnn.add(Dense(128, activation='relu'))\n",
    "model_cnn.add(Dropout(0.5))\n",
    "\n",
    "# Lớp đầu ra\n",
    "model_cnn.add(Dense(1))  # Bài toán hồi quy với 1 neuron đầu ra\n",
    "\n",
    "# Compile mô hình\n",
    "model_cnn.compile(optimizer='adam', loss='mean_squared_error', metrics=['mae'])\n",
    "\n",
    "# Huấn luyện mô hình\n",
    "history_cnn = model_cnn.fit(X_train_cnn, y_train, validation_split=0.2, epochs=50, batch_size=32)\n",
    "\n",
    "# Đánh giá mô hình trên tập kiểm tra\n",
    "test_loss_cnn, test_mae_cnn = model_cnn.evaluate(X_test_cnn, y_test)\n",
    "print(f\"Test MAE for CNN Model: {test_mae_cnn:.2f}\")\n"
   ]
  },
  {
   "cell_type": "code",
   "execution_count": null,
   "metadata": {},
   "outputs": [
    {
     "name": "stdout",
     "output_type": "stream",
     "text": [
      "areaM2                                10\n",
      "lat                                    0\n",
      "long                                   0\n",
      "priceBil                              13\n",
      "priceMil                               0\n",
      "                                      ..\n",
      "Hướng nhà_Tây                          0\n",
      "Hướng nhà_Đông                         0\n",
      "Tiện ích_Gần trường học, bệnh viện     0\n",
      "Tình trạng_Mới xây                     0\n",
      "Tình trạng_Đã qua sử dụng              0\n",
      "Length: 345, dtype: int64\n",
      "0\n",
      "areaM2                                0\n",
      "lat                                   0\n",
      "long                                  0\n",
      "priceBil                              0\n",
      "priceMil                              0\n",
      "                                     ..\n",
      "Hướng nhà_Tây                         0\n",
      "Hướng nhà_Đông                        0\n",
      "Tiện ích_Gần trường học, bệnh viện    0\n",
      "Tình trạng_Mới xây                    0\n",
      "Tình trạng_Đã qua sử dụng             0\n",
      "Length: 345, dtype: int64\n",
      "0\n",
      "Kiểu dữ liệu của X_train: areaM2                                float64\n",
      "lat                                   float64\n",
      "long                                  float64\n",
      "priceBil                              float64\n",
      "priceMil                                int64\n",
      "                                       ...   \n",
      "Hướng nhà_Tây                            bool\n",
      "Hướng nhà_Đông                           bool\n",
      "Tiện ích_Gần trường học, bệnh viện       bool\n",
      "Tình trạng_Mới xây                       bool\n",
      "Tình trạng_Đã qua sử dụng                bool\n",
      "Length: 345, dtype: object\n",
      "Kiểu dữ liệu của y_train: int64\n"
     ]
    },
    {
     "name": "stderr",
     "output_type": "stream",
     "text": [
      "c:\\Users\\ADMIN\\anaconda3\\Lib\\site-packages\\keras\\src\\layers\\convolutional\\base_conv.py:107: UserWarning: Do not pass an `input_shape`/`input_dim` argument to a layer. When using Sequential models, prefer using an `Input(shape)` object as the first layer in the model instead.\n",
      "  super().__init__(activity_regularizer=activity_regularizer, **kwargs)\n"
     ]
    },
    {
     "name": "stdout",
     "output_type": "stream",
     "text": [
      "WARNING:tensorflow:5 out of the last 5 calls to <function TensorFlowTrainer.make_predict_function.<locals>.one_step_on_data_distributed at 0x000001F9D832E480> triggered tf.function retracing. Tracing is expensive and the excessive number of tracings could be due to (1) creating @tf.function repeatedly in a loop, (2) passing tensors with different shapes, (3) passing Python objects instead of tensors. For (1), please define your @tf.function outside of the loop. For (2), @tf.function has reduce_retracing=True option that can avoid unnecessary retracing. For (3), please refer to https://www.tensorflow.org/guide/function#controlling_retracing and https://www.tensorflow.org/api_docs/python/tf/function for  more details.\n",
      "\u001b[1m1/1\u001b[0m \u001b[32m━━━━━━━━━━━━━━━━━━━━\u001b[0m\u001b[37m\u001b[0m \u001b[1m0s\u001b[0m 236ms/step\n"
     ]
    },
    {
     "name": "stderr",
     "output_type": "stream",
     "text": [
      "c:\\Users\\ADMIN\\anaconda3\\Lib\\site-packages\\keras\\src\\layers\\rnn\\rnn.py:204: UserWarning: Do not pass an `input_shape`/`input_dim` argument to a layer. When using Sequential models, prefer using an `Input(shape)` object as the first layer in the model instead.\n",
      "  super().__init__(**kwargs)\n"
     ]
    },
    {
     "name": "stdout",
     "output_type": "stream",
     "text": [
      "WARNING:tensorflow:6 out of the last 6 calls to <function TensorFlowTrainer.make_predict_function.<locals>.one_step_on_data_distributed at 0x000001F9DE030680> triggered tf.function retracing. Tracing is expensive and the excessive number of tracings could be due to (1) creating @tf.function repeatedly in a loop, (2) passing tensors with different shapes, (3) passing Python objects instead of tensors. For (1), please define your @tf.function outside of the loop. For (2), @tf.function has reduce_retracing=True option that can avoid unnecessary retracing. For (3), please refer to https://www.tensorflow.org/guide/function#controlling_retracing and https://www.tensorflow.org/api_docs/python/tf/function for  more details.\n",
      "\u001b[1m1/1\u001b[0m \u001b[32m━━━━━━━━━━━━━━━━━━━━\u001b[0m\u001b[37m\u001b[0m \u001b[1m1s\u001b[0m 748ms/step\n"
     ]
    },
    {
     "name": "stderr",
     "output_type": "stream",
     "text": [
      "c:\\Users\\ADMIN\\anaconda3\\Lib\\site-packages\\keras\\src\\layers\\rnn\\rnn.py:204: UserWarning: Do not pass an `input_shape`/`input_dim` argument to a layer. When using Sequential models, prefer using an `Input(shape)` object as the first layer in the model instead.\n",
      "  super().__init__(**kwargs)\n"
     ]
    },
    {
     "name": "stdout",
     "output_type": "stream",
     "text": [
      "\u001b[1m1/1\u001b[0m \u001b[32m━━━━━━━━━━━━━━━━━━━━\u001b[0m\u001b[37m\u001b[0m \u001b[1m1s\u001b[0m 1s/step\n",
      "CNN - MAE: 1484032000.0, MSE: 3.325934438214271e+18, RMSE: 1823714461.809817\n",
      "RNN - MAE: 1482391040.0, MSE: 3.3400535419044495e+18, RMSE: 1827581336.6043246\n",
      "LSTM - MAE: 1724591616.0, MSE: 3.6912895077405164e+18, RMSE: 1921272887.369339\n"
     ]
    },
    {
     "data": {
      "image/png": "[encoded data removed]",
      "text/plain": [
       "<Figure size 1000x600 with 3 Axes>"
      ]
     },
     "metadata": {},
     "output_type": "display_data"
    }
   ],
   "source": [
    "import pandas as pd\n",
    "import random\n",
    "from datetime import datetime\n",
    "import matplotlib.pyplot as plt\n",
    "from tensorflow.keras.models import Sequential\n",
    "from tensorflow.keras.layers import Dense, Conv1D, MaxPooling1D, LSTM, SimpleRNN, Flatten\n",
    "from tensorflow.keras.optimizers import Adam\n",
    "from sklearn.model_selection import train_test_split\n",
    "from sklearn.metrics import mean_absolute_error, mean_squared_error\n",
    "import math\n",
    "import numpy as np\n",
    "\n",
    "# Đọc dữ liệu (file đã bổ sung)\n",
    "df = pd.read_csv('file_nha_dat_bosung.csv')\n",
    "\n",
    "# Giả sử cột \"target\" là giá nhà, ta sẽ sử dụng các cột khác làm đặc trưng\n",
    "features = df.drop(\"Giá bán\", axis=1)  # Các đặc trưng\n",
    "target = df[\"Giá bán\"]  # Giá bán là giá trị mục tiêu\n",
    "\n",
    "# Tiền xử lý: Chuyển đổi các cột không phải là số thành số (e.g., One-Hot Encoding)\n",
    "features = pd.get_dummies(features, drop_first=True)\n",
    "\n",
    "# Kiểm tra và xử lý giá trị NaN trong dữ liệu\n",
    "print(features.isnull().sum())  # Kiểm tra NaN trong các đặc trưng\n",
    "print(target.isnull().sum())   # Kiểm tra NaN trong target\n",
    "\n",
    "# Điền NaN trong dữ liệu đặc trưng bằng giá trị trung bình\n",
    "features = features.fillna(features.mean())\n",
    "target = target.fillna(target.mean())\n",
    "\n",
    "# Kiểm tra lại sau khi điền NaN\n",
    "print(features.isnull().sum())\n",
    "print(target.isnull().sum())\n",
    "\n",
    "# Kiểm tra kiểu dữ liệu của X_train và y_train\n",
    "print(f\"Kiểu dữ liệu của X_train: {features.dtypes}\")\n",
    "print(f\"Kiểu dữ liệu của y_train: {target.dtypes}\")\n",
    "\n",
    "# Chuyển dữ liệu thành kiểu float32 để đảm bảo tương thích với TensorFlow\n",
    "features = features.astype('float32')\n",
    "target = target.astype('float32')\n",
    "\n",
    "# Chia dữ liệu thành tập huấn luyện và kiểm tra\n",
    "X_train, X_test, y_train, y_test = train_test_split(features, target, test_size=0.2, random_state=42)\n",
    "\n",
    "# Định dạng lại dữ liệu cho CNN (số lượng mẫu, số đặc trưng, 1 chiều cho CNN)\n",
    "X_train_cnn = X_train.values.reshape((X_train.shape[0], X_train.shape[1], 1))\n",
    "X_test_cnn = X_test.values.reshape((X_test.shape[0], X_test.shape[1], 1))\n",
    "\n",
    "# 1. Xây dựng mô hình CNN\n",
    "def build_cnn():\n",
    "    model = Sequential()\n",
    "    model.add(Conv1D(100, 3, activation='relu', input_shape=(X_train_cnn.shape[1], 1)))\n",
    "    model.add(MaxPooling1D(2))\n",
    "    model.add(Conv1D(100, 3, activation='relu'))\n",
    "    model.add(MaxPooling1D(2))\n",
    "    model.add(Flatten())\n",
    "    model.add(Dense(100, activation='relu'))\n",
    "    model.add(Dense(1))  # Output\n",
    "    model.compile(optimizer=Adam(), loss='mse')\n",
    "    return model\n",
    "\n",
    "# 2. Xây dựng mô hình RNN\n",
    "def build_rnn():\n",
    "    model = Sequential()\n",
    "    model.add(SimpleRNN(100, input_shape=(1, X_train.shape[1]), activation='relu', return_sequences=True))  # Chỉnh lại input_shape\n",
    "    model.add(SimpleRNN(100, activation='relu'))\n",
    "    model.add(Dense(100, activation='relu'))\n",
    "    model.add(Dense(1))  # Output\n",
    "    model.compile(optimizer=Adam(), loss='mse')\n",
    "    return model\n",
    "\n",
    "# 3. Xây dựng mô hình LSTM\n",
    "def build_lstm():\n",
    "    model = Sequential()\n",
    "    model.add(LSTM(100, input_shape=(1, X_train.shape[1]), activation='relu', return_sequences=True))  # Chỉnh lại input_shape\n",
    "    model.add(LSTM(100, activation='relu'))\n",
    "    model.add(Dense(100, activation='relu'))\n",
    "    model.add(Dense(1))  # Output\n",
    "    model.compile(optimizer=Adam(), loss='mse')\n",
    "    return model\n",
    "\n",
    "# Huấn luyện và đánh giá mô hình\n",
    "def train_and_evaluate(model, X_train, y_train, X_test, y_test):\n",
    "    model.fit(X_train, y_train, epochs=10, batch_size=32, verbose=0)\n",
    "    y_pred = model.predict(X_test)\n",
    "    \n",
    "    # Tính các chỉ số đánh giá\n",
    "    mae = mean_absolute_error(y_test, y_pred)\n",
    "    mse = mean_squared_error(y_test, y_pred)\n",
    "    rmse = math.sqrt(mse)\n",
    "    \n",
    "    return mae, mse, rmse, y_pred\n",
    "\n",
    "# Định dạng lại dữ liệu cho RNN và LSTM (samples, timesteps, features)\n",
    "X_train_rnn = X_train.values.reshape((X_train.shape[0], 1, X_train.shape[1]))  # Thêm chiều timesteps = 1\n",
    "X_test_rnn = X_test.values.reshape((X_test.shape[0], 1, X_test.shape[1]))  # Thêm chiều timesteps = 1\n",
    "\n",
    "# Khởi tạo và huấn luyện mô hình CNN\n",
    "cnn_model = build_cnn()\n",
    "mae_cnn, mse_cnn, rmse_cnn, y_pred_cnn = train_and_evaluate(cnn_model, X_train_cnn, y_train, X_test_cnn, y_test)\n",
    "\n",
    "# Khởi tạo và huấn luyện mô hình RNN\n",
    "rnn_model = build_rnn()\n",
    "mae_rnn, mse_rnn, rmse_rnn, y_pred_rnn = train_and_evaluate(rnn_model, X_train_rnn, y_train, X_test_rnn, y_test)\n",
    "\n",
    "# Khởi tạo và huấn luyện mô hình LSTM\n",
    "lstm_model = build_lstm()\n",
    "mae_lstm, mse_lstm, rmse_lstm, y_pred_lstm = train_and_evaluate(lstm_model, X_train_rnn, y_train, X_test_rnn, y_test)\n",
    "\n",
    "# In kết quả\n",
    "print(f\"CNN - MAE: {mae_cnn}, MSE: {mse_cnn}, RMSE: {rmse_cnn}\")\n",
    "print(f\"RNN - MAE: {mae_rnn}, MSE: {mse_rnn}, RMSE: {rmse_rnn}\")\n",
    "print(f\"LSTM - MAE: {mae_lstm}, MSE: {mse_lstm}, RMSE: {rmse_lstm}\")\n",
    "\n",
    "# Vẽ biểu đồ so sánh MAE, MSE và RMSE của các mô hình\n",
    "models = ['CNN', 'RNN', 'LSTM']\n",
    "mae_scores = [mae_cnn, mae_rnn, mae_lstm]\n",
    "mse_scores = [mse_cnn, mse_rnn, mse_lstm]\n",
    "rmse_scores = [rmse_cnn, rmse_rnn, rmse_lstm]\n",
    "\n",
    "# Biểu đồ MAE\n",
    "plt.figure(figsize=(10, 6))\n",
    "plt.subplot(1, 3, 1)\n",
    "plt.bar(models, mae_scores, color='skyblue')\n",
    "plt.title('So sánh MAE')\n",
    "plt.ylabel('MAE')\n",
    "\n",
    "# Biểu đồ MSE\n",
    "plt.subplot(1, 3, 2)\n",
    "plt.bar(models, mse_scores, color='lightgreen')\n",
    "plt.title('So sánh MSE')\n",
    "plt.ylabel('MSE')\n",
    "\n",
    "# Biểu đồ RMSE\n",
    "plt.subplot(1, 3, 3)\n",
    "plt.bar(models, rmse_scores, color='lightcoral')\n",
    "plt.title('So sánh RMSE')\n",
    "plt.ylabel('RMSE')\n",
    "\n",
    "# Hiển thị biểu đồ\n",
    "plt.tight_layout()\n",
    "plt.show()\n"
   ]
  },
  {
   "cell_type": "code",
   "execution_count": null,
   "metadata": {},
   "outputs": [
    {
     "name": "stdout",
     "output_type": "stream",
     "text": [
      "areaM2                                10\n",
      "lat                                    0\n",
      "long                                   0\n",
      "priceBil                              13\n",
      "priceMil                               0\n",
      "                                      ..\n",
      "Hướng nhà_Tây                          0\n",
      "Hướng nhà_Đông                         0\n",
      "Tiện ích_Gần trường học, bệnh viện     0\n",
      "Tình trạng_Mới xây                     0\n",
      "Tình trạng_Đã qua sử dụng              0\n",
      "Length: 345, dtype: int64\n",
      "0\n",
      "areaM2                                0\n",
      "lat                                   0\n",
      "long                                  0\n",
      "priceBil                              0\n",
      "priceMil                              0\n",
      "                                     ..\n",
      "Hướng nhà_Tây                         0\n",
      "Hướng nhà_Đông                        0\n",
      "Tiện ích_Gần trường học, bệnh viện    0\n",
      "Tình trạng_Mới xây                    0\n",
      "Tình trạng_Đã qua sử dụng             0\n",
      "Length: 345, dtype: int64\n",
      "0\n"
     ]
    },
    {
     "name": "stderr",
     "output_type": "stream",
     "text": [
      "c:\\Users\\ADMIN\\anaconda3\\Lib\\site-packages\\keras\\src\\layers\\convolutional\\base_conv.py:107: UserWarning: Do not pass an `input_shape`/`input_dim` argument to a layer. When using Sequential models, prefer using an `Input(shape)` object as the first layer in the model instead.\n",
      "  super().__init__(activity_regularizer=activity_regularizer, **kwargs)\n"
     ]
    },
    {
     "name": "stdout",
     "output_type": "stream",
     "text": [
      "\u001b[1m1/1\u001b[0m \u001b[32m━━━━━━━━━━━━━━━━━━━━\u001b[0m\u001b[37m\u001b[0m \u001b[1m0s\u001b[0m 351ms/step\n"
     ]
    },
    {
     "name": "stderr",
     "output_type": "stream",
     "text": [
      "c:\\Users\\ADMIN\\anaconda3\\Lib\\site-packages\\keras\\src\\layers\\rnn\\rnn.py:204: UserWarning: Do not pass an `input_shape`/`input_dim` argument to a layer. When using Sequential models, prefer using an `Input(shape)` object as the first layer in the model instead.\n",
      "  super().__init__(**kwargs)\n"
     ]
    },
    {
     "name": "stdout",
     "output_type": "stream",
     "text": [
      "\u001b[1m1/1\u001b[0m \u001b[32m━━━━━━━━━━━━━━━━━━━━\u001b[0m\u001b[37m\u001b[0m \u001b[1m2s\u001b[0m 2s/step\n"
     ]
    },
    {
     "name": "stderr",
     "output_type": "stream",
     "text": [
      "c:\\Users\\ADMIN\\anaconda3\\Lib\\site-packages\\keras\\src\\layers\\rnn\\rnn.py:204: UserWarning: Do not pass an `input_shape`/`input_dim` argument to a layer. When using Sequential models, prefer using an `Input(shape)` object as the first layer in the model instead.\n",
      "  super().__init__(**kwargs)\n"
     ]
    },
    {
     "name": "stdout",
     "output_type": "stream",
     "text": [
      "\u001b[1m1/1\u001b[0m \u001b[32m━━━━━━━━━━━━━━━━━━━━\u001b[0m\u001b[37m\u001b[0m \u001b[1m3s\u001b[0m 3s/step\n",
      "CNN - MAE: 1485167360.0, MSE: 3.3621262378320527e+18, RMSE: 1833610165.174717\n",
      "RNN - MAE: 1512437888.0, MSE: 3.539529690194641e+18, RMSE: 1881363784.65055\n",
      "LSTM - MAE: 2159891456.0, MSE: 5.136483468120687e+18, RMSE: 2266381139.199823\n"
     ]
    },
    {
     "data": {
      "image/png": "[encoded data removed]",
      "text/plain": [
       "<Figure size 1000x600 with 3 Axes>"
      ]
     },
     "metadata": {},
     "output_type": "display_data"
    }
   ],
   "source": [
    "import pandas as pd\n",
    "import random\n",
    "from datetime import datetime\n",
    "import matplotlib.pyplot as plt\n",
    "from tensorflow.keras.models import Sequential\n",
    "from tensorflow.keras.layers import Dense, Conv1D, MaxPooling1D, LSTM, SimpleRNN, Flatten\n",
    "from tensorflow.keras.optimizers import Adam\n",
    "from sklearn.model_selection import train_test_split\n",
    "from sklearn.metrics import mean_absolute_error, mean_squared_error\n",
    "import math\n",
    "import numpy as np\n",
    "\n",
    "# Đọc dữ liệu (file đã bổ sung)\n",
    "df = pd.read_csv('file_nha_dat_bosung.csv')\n",
    "\n",
    "# Giả sử cột \"target\" là giá nhà, ta sẽ sử dụng các cột khác làm đặc trưng\n",
    "features = df.drop(\"Giá bán\", axis=1)  # Các đặc trưng\n",
    "target = df[\"Giá bán\"]  # Giá bán là giá trị mục tiêu\n",
    "\n",
    "# Tiền xử lý: Chuyển đổi các cột không phải là số thành số (e.g., One-Hot Encoding)\n",
    "features = pd.get_dummies(features, drop_first=True)\n",
    "\n",
    "# Kiểm tra và xử lý giá trị NaN trong dữ liệu\n",
    "print(features.isnull().sum())  # Kiểm tra NaN trong các đặc trưng\n",
    "print(target.isnull().sum())   # Kiểm tra NaN trong target\n",
    "\n",
    "# Điền NaN trong dữ liệu đặc trưng bằng giá trị trung bình\n",
    "features = features.fillna(features.mean())\n",
    "target = target.fillna(target.mean())\n",
    "\n",
    "# Kiểm tra lại sau khi điền NaN\n",
    "print(features.isnull().sum())\n",
    "print(target.isnull().sum())\n",
    "\n",
    "# Chuyển dữ liệu thành kiểu float32 để đảm bảo tương thích với TensorFlow\n",
    "features = features.astype('float32')\n",
    "target = target.astype('float32')\n",
    "\n",
    "# Chia dữ liệu thành tập huấn luyện và kiểm tra\n",
    "X_train, X_test, y_train, y_test = train_test_split(features, target, test_size=0.2, random_state=42)\n",
    "\n",
    "# Định dạng lại dữ liệu cho CNN (số lượng mẫu, số đặc trưng, 1 chiều cho CNN)\n",
    "X_train_cnn = X_train.values.reshape((X_train.shape[0], X_train.shape[1], 1))\n",
    "X_test_cnn = X_test.values.reshape((X_test.shape[0], X_test.shape[1], 1))\n",
    "\n",
    "# Chuyển dữ liệu cho RNN và LSTM thành dạng (samples, timesteps, features)\n",
    "X_train_rnn = X_train.values.reshape((X_train.shape[0], 1, X_train.shape[1]))\n",
    "X_test_rnn = X_test.values.reshape((X_test.shape[0], 1, X_test.shape[1]))\n",
    "\n",
    "# 1. Xây dựng mô hình CNN\n",
    "def build_cnn():\n",
    "    model = Sequential()\n",
    "    model.add(Conv1D(100, 3, activation='relu', input_shape=(X_train_cnn.shape[1], 1)))\n",
    "    model.add(MaxPooling1D(2))\n",
    "    model.add(Conv1D(100, 3, activation='relu'))\n",
    "    model.add(MaxPooling1D(2))\n",
    "    model.add(Flatten())\n",
    "    model.add(Dense(100, activation='relu'))\n",
    "    model.add(Dense(1))  # Output\n",
    "    model.compile(optimizer=Adam(), loss='mse')\n",
    "    return model\n",
    "\n",
    "# 2. Xây dựng mô hình RNN\n",
    "def build_rnn():\n",
    "    model = Sequential()\n",
    "    model.add(SimpleRNN(100, input_shape=(1, X_train.shape[1]), activation='relu', return_sequences=True))\n",
    "    model.add(SimpleRNN(100, activation='relu', return_sequences=True))\n",
    "    model.add(SimpleRNN(100, activation='relu', return_sequences=True))\n",
    "    model.add(SimpleRNN(100, activation='relu', return_sequences=True))\n",
    "    model.add(SimpleRNN(100, activation='relu', return_sequences=True))\n",
    "    model.add(SimpleRNN(100, activation='relu', return_sequences=True))\n",
    "    model.add(SimpleRNN(100, activation='relu'))\n",
    "    model.add(Dense(100, activation='relu'))\n",
    "    model.add(Dense(1))  # Output\n",
    "    model.compile(optimizer=Adam(), loss='mse')\n",
    "    return model\n",
    "\n",
    "# 3. Xây dựng mô hình LSTM\n",
    "def build_lstm():\n",
    "    model = Sequential()\n",
    "    model.add(LSTM(100, input_shape=(1, X_train.shape[1]), activation='relu', return_sequences=True))\n",
    "    model.add(LSTM(100, activation='relu', return_sequences=True))\n",
    "    model.add(LSTM(100, activation='relu', return_sequences=True))\n",
    "    model.add(LSTM(100, activation='relu', return_sequences=True))\n",
    "    model.add(LSTM(100, activation='relu', return_sequences=True))\n",
    "    model.add(LSTM(100, activation='relu', return_sequences=True))\n",
    "    model.add(LSTM(100, activation='relu'))\n",
    "    model.add(Dense(100, activation='relu'))\n",
    "    model.add(Dense(1))  # Output\n",
    "    model.compile(optimizer=Adam(), loss='mse')\n",
    "    return model\n",
    "\n",
    "# Huấn luyện và đánh giá mô hình\n",
    "def train_and_evaluate(model, X_train, y_train, X_test, y_test):\n",
    "    model.fit(X_train, y_train, epochs=10, batch_size=32, verbose=0)\n",
    "    y_pred = model.predict(X_test)\n",
    "    \n",
    "    # Tính các chỉ số đánh giá\n",
    "    mae = mean_absolute_error(y_test, y_pred)\n",
    "    mse = mean_squared_error(y_test, y_pred)\n",
    "    rmse = math.sqrt(mse)\n",
    "    \n",
    "    return mae, mse, rmse, y_pred\n",
    "\n",
    "# Khởi tạo và huấn luyện mô hình CNN\n",
    "cnn_model = build_cnn()\n",
    "mae_cnn, mse_cnn, rmse_cnn, y_pred_cnn = train_and_evaluate(cnn_model, X_train_cnn, y_train, X_test_cnn, y_test)\n",
    "\n",
    "# Khởi tạo và huấn luyện mô hình RNN\n",
    "rnn_model = build_rnn()\n",
    "mae_rnn, mse_rnn, rmse_rnn, y_pred_rnn = train_and_evaluate(rnn_model, X_train_rnn, y_train, X_test_rnn, y_test)\n",
    "\n",
    "# Khởi tạo và huấn luyện mô hình LSTM\n",
    "lstm_model = build_lstm()\n",
    "mae_lstm, mse_lstm, rmse_lstm, y_pred_lstm = train_and_evaluate(lstm_model, X_train_rnn, y_train, X_test_rnn, y_test)\n",
    "\n",
    "# In kết quả\n",
    "print(f\"CNN - MAE: {mae_cnn}, MSE: {mse_cnn}, RMSE: {rmse_cnn}\")\n",
    "print(f\"RNN - MAE: {mae_rnn}, MSE: {mse_rnn}, RMSE: {rmse_rnn}\")\n",
    "print(f\"LSTM - MAE: {mae_lstm}, MSE: {mse_lstm}, RMSE: {rmse_lstm}\")\n",
    "\n",
    "# Vẽ biểu đồ so sánh MAE, MSE và RMSE của các mô hình\n",
    "models = ['CNN', 'RNN', 'LSTM']\n",
    "mae_scores = [mae_cnn, mae_rnn, mae_lstm]\n",
    "mse_scores = [mse_cnn, mse_rnn, mse_lstm]\n",
    "rmse_scores = [rmse_cnn, rmse_rnn, rmse_lstm]\n",
    "\n",
    "# Biểu đồ MAE\n",
    "plt.figure(figsize=(10, 6))\n",
    "plt.subplot(1, 3, 1)\n",
    "plt.bar(models, mae_scores, color='skyblue')\n",
    "plt.title('So sánh MAE')\n",
    "plt.ylabel('MAE')\n",
    "\n",
    "# Biểu đồ MSE\n",
    "plt.subplot(1, 3, 2)\n",
    "plt.bar(models, mse_scores, color='lightgreen')\n",
    "plt.title('So sánh MSE')\n",
    "plt.ylabel('MSE')\n",
    "\n",
    "# Biểu đồ RMSE\n",
    "plt.subplot(1, 3, 3)\n",
    "plt.bar(models, rmse_scores, color='lightcoral')\n",
    "plt.title('So sánh RMSE')\n",
    "plt.ylabel('RMSE')\n",
    "\n",
    "# Hiển thị biểu đồ\n",
    "plt.tight_layout()\n",
    "plt.show()\n"
   ]
  },
  {
   "cell_type": "code",
   "execution_count": 2,
   "metadata": {},
   "outputs": [
    {
     "name": "stdout",
     "output_type": "stream",
     "text": [
      "* Running on local URL:  http://127.0.0.1:7862\n",
      "\n",
      "To create a public link, set `share=True` in `launch()`.\n"
     ]
    },
    {
     "data": {
      "text/html": [
       "<div><iframe src=\"http://127.0.0.1:7862/\" width=\"100%\" height=\"500\" allow=\"autoplay; camera; microphone; clipboard-read; clipboard-write;\" frameborder=\"0\" allowfullscreen></iframe></div>"
      ],
      "text/plain": [
       "<IPython.core.display.HTML object>"
      ]
     },
     "metadata": {},
     "output_type": "display_data"
    },
    {
     "data": {
      "text/plain": []
     },
     "execution_count": 2,
     "metadata": {},
     "output_type": "execute_result"
    }
   ],
   "source": [
    "import gradio as gr\n",
    "import folium\n",
    "\n",
    "# Hàm tính giá dựa trên các yếu tố đầu vào\n",
    "def predict_price(area, direction, location):\n",
    "    # Đây là một ví dụ về dự đoán giá dựa trên diện tích và hướng\n",
    "    base_price = 1000000  # Giá cơ bản (ví dụ)\n",
    "    if direction == 'North':\n",
    "        price_multiplier = 1.1\n",
    "    elif direction == 'South':\n",
    "        price_multiplier = 0.9\n",
    "    else:\n",
    "        price_multiplier = 1.0\n",
    "    \n",
    "    # Tính giá dựa trên diện tích\n",
    "    price = base_price * area * price_multiplier\n",
    "    return price\n",
    "\n",
    "# Hàm tạo bản đồ\n",
    "def create_map(lat, lon):\n",
    "    # Tạo một bản đồ sử dụng Folium\n",
    "    map = folium.Map(location=[lat, lon], zoom_start=12)\n",
    "    folium.Marker([lat, lon], popup=\"Vị trí dự đoán\").add_to(map)\n",
    "    return map._repr_html_()\n",
    "\n",
    "# Giao diện Gradio với Gradio và Folium\n",
    "def app(area, direction, lat, lon):\n",
    "    # Dự đoán giá\n",
    "    price = predict_price(area, direction, (lat, lon))\n",
    "    # Tạo bản đồ\n",
    "    map_html = create_map(lat, lon)\n",
    "    return price, map_html\n",
    "\n",
    "# Giao diện Gradio\n",
    "inputs = [\n",
    "    gr.Slider(minimum=10, maximum=100, step=1, label=\"Diện tích (m2)\"),\n",
    "    gr.Radio(choices=[\"North\", \"South\", \"East\", \"West\"], label=\"Hướng nhà\"),\n",
    "    gr.Number(label=\"Vĩ độ\", value=21.0285),  # Latitude mặc định (Hà Nội)\n",
    "    gr.Number(label=\"Kinh độ\", value=105.8542)  # Longitude mặc định (Hà Nội)\n",
    "]\n",
    "\n",
    "outputs = [\n",
    "    gr.Textbox(label=\"Dự đoán giá (VND)\"),\n",
    "    gr.HTML(label=\"Bản đồ vị trí\")\n",
    "]\n",
    "\n",
    "# Khởi động ứng dụng Gradio\n",
    "gr.Interface(fn=app, inputs=inputs, outputs=outputs, live=True).launch()\n"
   ]
  }
 ],
 "metadata": {
  "kernelspec": {
   "display_name": "base",
   "language": "python",
   "name": "python3"
  },
  "language_info": {
   "codemirror_mode": {
    "name": "ipython",
    "version": 3
   },
   "file_extension": ".py",
   "mimetype": "text/x-python",
   "name": "python",
   "nbconvert_exporter": "python",
   "pygments_lexer": "ipython3",
   "version": "3.12.3"
  }
 },
 "nbformat": 4,
 "nbformat_minor": 2
}
