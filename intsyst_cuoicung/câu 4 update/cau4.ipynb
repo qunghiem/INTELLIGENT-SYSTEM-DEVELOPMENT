{
 "cells": [
  {
   "cell_type": "code",
   "execution_count": 3,
   "metadata": {},
   "outputs": [],
   "source": [
    "import gradio as gr\n",
    "import face_recognition\n",
    "import os\n",
    "import numpy as np\n",
    "from tqdm import tqdm\n"
   ]
  },
  {
   "cell_type": "code",
   "execution_count": 5,
   "metadata": {},
   "outputs": [
    {
     "name": "stderr",
     "output_type": "stream",
     "text": [
      "Encoding faces:   0%|          | 0/2 [00:00<?, ?image/s]"
     ]
    },
    {
     "name": "stderr",
     "output_type": "stream",
     "text": [
      "Encoding faces: 100%|██████████| 2/2 [00:10<00:00,  5.06s/image]\n"
     ]
    },
    {
     "name": "stdout",
     "output_type": "stream",
     "text": [
      "Kết quả nhận diện: t (Độ khớp: 93.9323630483%)\n"
     ]
    }
   ],
   "source": [
    "# Bước 1: Encode khuôn mặt\n",
    "def encode_faces(folder_path):\n",
    "    encoded_faces = []\n",
    "    face_names = []\n",
    "    image_files = os.listdir(folder_path)  # Lấy danh sách file ảnh\n",
    "    for file_name in tqdm(image_files, desc=\"Encoding faces\", unit=\"image\"):\n",
    "        image_path = os.path.join(folder_path, file_name)\n",
    "        image = face_recognition.load_image_file(image_path)\n",
    "        encodings = face_recognition.face_encodings(image, model=\"cnn\")\n",
    "        if len(encodings) > 0:\n",
    "            encoded_faces.append(encodings[0])\n",
    "            face_names.append(os.path.splitext(file_name)[0])  # Lưu tên từ file\n",
    "    return encoded_faces, face_names\n",
    "\n",
    "def recognize_face_with_fit(test_image_path, known_faces, known_names, tolerance=0.5, fit_threshold=50):\n",
    "    # Load ảnh và đảm bảo chuyển về RGB\n",
    "    test_image = face_recognition.load_image_file(test_image_path)\n",
    "    # Sử dụng mô hình \"cnn\" để phát hiện khuôn mặt\n",
    "    face_locations = face_recognition.face_locations(test_image, model=\"cnn\")\n",
    "    test_encodings = face_recognition.face_encodings(test_image, face_locations)\n",
    "    \n",
    "    if len(test_encodings) == 0:\n",
    "        print(\"Không tìm thấy khuôn mặt trong ảnh kiểm tra.\")\n",
    "        return \"Unknown\", 0\n",
    "    \n",
    "    for test_encoding in test_encodings:\n",
    "        distances = face_recognition.face_distance(known_faces, test_encoding)\n",
    "        best_match_index = np.argmin(distances)  # Lấy khuôn mặt có khoảng cách nhỏ nhất\n",
    "        \n",
    "        if distances[best_match_index] <= tolerance:\n",
    "            fit_percentage = (1 - distances[best_match_index]) * 100\n",
    "            if fit_percentage >= fit_threshold:  # So sánh với ngưỡng\n",
    "                return known_names[best_match_index], fit_percentage\n",
    "            else:\n",
    "                return \"Unknown\", fit_percentage\n",
    "    \n",
    "    return \"Unknown\", 0\n",
    "\n",
    "# Bước 3: Thực hiện train\n",
    "# Encode ảnh trong folder \"B21DCCN146\"\n",
    "known_faces, known_names = encode_faces(\"IMAGE\")\n",
    "\n",
    "# Bước 4: Thực hiện test\n",
    "# Test với ảnh mới\n",
    "test_image_path = \"IMAGE/t.jpg\"\n",
    "result_name, fit_percentage = recognize_face_with_fit(test_image_path, known_faces, known_names)\n",
    "\n",
    "# Hiển thị kết quả\n",
    "if result_name == \"Unknown\":\n",
    "    print(f\"Kết quả nhận diện: Unknown (Độ khớp: {fit_percentage:.10f}%)\")\n",
    "else:\n",
    "    print(f\"Kết quả nhận diện: {result_name} (Độ khớp: {fit_percentage:.10f}%)\")\n"
   ]
  },
  {
   "cell_type": "code",
   "execution_count": 8,
   "metadata": {},
   "outputs": [
    {
     "ename": "ModuleNotFoundError",
     "evalue": "No module named 'cv2'",
     "output_type": "error",
     "traceback": [
      "\u001b[1;31m---------------------------------------------------------------------------\u001b[0m",
      "\u001b[1;31mModuleNotFoundError\u001b[0m                       Traceback (most recent call last)",
      "Cell \u001b[1;32mIn[8], line 1\u001b[0m\n\u001b[1;32m----> 1\u001b[0m \u001b[38;5;28;01mimport\u001b[39;00m \u001b[38;5;21;01mcv2\u001b[39;00m\n\u001b[0;32m      2\u001b[0m \u001b[38;5;28;01mfrom\u001b[39;00m \u001b[38;5;21;01mmatplotlib\u001b[39;00m \u001b[38;5;28;01mimport\u001b[39;00m pyplot \u001b[38;5;28;01mas\u001b[39;00m plt\n\u001b[0;32m      4\u001b[0m \u001b[38;5;28;01mdef\u001b[39;00m \u001b[38;5;21mshow_image_with_detected_faces\u001b[39m(image_path):\n",
      "\u001b[1;31mModuleNotFoundError\u001b[0m: No module named 'cv2'"
     ]
    }
   ],
   "source": [
    "import cv2\n",
    "from matplotlib import pyplot as plt\n",
    "\n",
    "def show_image_with_detected_faces(image_path):\n",
    "    image = cv2.imread(image_path)\n",
    "    rgb_image = cv2.cvtColor(image, cv2.COLOR_BGR2RGB)\n",
    "    face_locations = face_recognition.face_locations(rgb_image)\n",
    "    \n",
    "    for (top, right, bottom, left) in face_locations:\n",
    "        cv2.rectangle(image, (left, top), (right, bottom), (0, 255, 0), 2)\n",
    "    \n",
    "    plt.imshow(cv2.cvtColor(image, cv2.COLOR_BGR2RGB))\n",
    "    plt.title(\"Detected Faces\")\n",
    "    plt.axis(\"off\")\n",
    "    plt.show()\n",
    "\n",
    "# Test với ảnh\n",
    "show_image_with_detected_faces(test_image_path)\n"
   ]
  },
  {
   "cell_type": "code",
   "execution_count": 9,
   "metadata": {},
   "outputs": [],
   "source": [
    "def recognize_face_with_fit(test_image, known_faces, known_names, tolerance=0.5, fit_threshold=50):\n",
    "    # Ảnh từ Gradio đã là numpy array, không cần load lại\n",
    "    # Phát hiện khuôn mặt\n",
    "    face_locations = face_recognition.face_locations(test_image, model=\"cnn\")\n",
    "    test_encodings = face_recognition.face_encodings(test_image, face_locations)\n",
    "    \n",
    "    if len(test_encodings) == 0:\n",
    "        return \"Không tìm thấy khuôn mặt trong ảnh kiểm tra.\"\n",
    "    \n",
    "    for test_encoding in test_encodings:\n",
    "        distances = face_recognition.face_distance(known_faces, test_encoding)\n",
    "        best_match_index = np.argmin(distances)  # Lấy khuôn mặt có khoảng cách nhỏ nhất\n",
    "        \n",
    "        if distances[best_match_index] <= tolerance:\n",
    "            fit_percentage = (1 - distances[best_match_index]) * 100\n",
    "            if fit_percentage >= fit_threshold:  # So sánh với ngưỡng\n",
    "                return f\"Nhận diện thành công: {known_names[best_match_index]} với độ khớp {fit_percentage:.2f}%\"\n",
    "            else:\n",
    "                return f\"Unknown (Độ khớp: {fit_percentage:.2f}%)\"\n",
    "    \n",
    "    return \"Unknown\"\n"
   ]
  },
  {
   "cell_type": "code",
   "execution_count": 10,
   "metadata": {},
   "outputs": [
    {
     "name": "stdout",
     "output_type": "stream",
     "text": [
      "* Running on local URL:  http://127.0.0.1:7860\n",
      "\n",
      "To create a public link, set `share=True` in `launch()`.\n"
     ]
    },
    {
     "data": {
      "text/html": [
       "<div><iframe src=\"http://127.0.0.1:7860/\" width=\"100%\" height=\"500\" allow=\"autoplay; camera; microphone; clipboard-read; clipboard-write;\" frameborder=\"0\" allowfullscreen></iframe></div>"
      ],
      "text/plain": [
       "<IPython.core.display.HTML object>"
      ]
     },
     "metadata": {},
     "output_type": "display_data"
    },
    {
     "data": {
      "text/plain": []
     },
     "execution_count": 10,
     "metadata": {},
     "output_type": "execute_result"
    }
   ],
   "source": [
    "import gradio as gr\n",
    "import numpy as np\n",
    "\n",
    "# Tạo giao diện với hàm nhận diện đã sửa\n",
    "interface = gr.Interface(\n",
    "    fn=lambda img: recognize_face_with_fit(img, known_faces, known_names),  # Gọi hàm nhận diện\n",
    "    inputs=gr.Image(type=\"numpy\"),  # Input: Tải ảnh dưới dạng numpy array\n",
    "    outputs=\"text\",  # Output: Kết quả nhận diện\n",
    "    title=\"Face Recognition\",\n",
    "    description=\"Tải lên một ảnh để nhận diện khuôn mặt.\"\n",
    ")\n",
    "\n",
    "# Chạy giao diện\n",
    "interface.launch()\n"
   ]
  }
 ],
 "metadata": {
  "kernelspec": {
   "display_name": "base",
   "language": "python",
   "name": "python3"
  },
  "language_info": {
   "codemirror_mode": {
    "name": "ipython",
    "version": 3
   },
   "file_extension": ".py",
   "mimetype": "text/x-python",
   "name": "python",
   "nbconvert_exporter": "python",
   "pygments_lexer": "ipython3",
   "version": "3.12.3"
  }
 },
 "nbformat": 4,
 "nbformat_minor": 2
}
