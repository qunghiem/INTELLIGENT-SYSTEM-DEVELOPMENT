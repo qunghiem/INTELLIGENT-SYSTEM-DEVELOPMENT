{
 "cells": [
  {
   "cell_type": "code",
   "execution_count": 8,
   "metadata": {},
   "outputs": [
    {
     "name": "stdout",
     "output_type": "stream",
     "text": [
      "Tập dữ liệu đã được lưu vào file hadong_housing.csv\n",
      "    LoaiNha  DienTich        GiaBan  SoPhong  SoTang HuongNha  NamXayDung  \\\n",
      "0  Biệt thự        41  9.052253e+09        1       2     Đông        1991   \n",
      "1   Nhà đất       388  3.031726e+09        7       2      Tây        2011   \n",
      "2  Chung cư       292  9.420275e+09        9       1      Bắc        2015   \n",
      "3  Chung cư       163  6.440673e+09        2       3      Tây        2018   \n",
      "4  Chung cư       376  1.961977e+10        4       4     Đông        2015   \n",
      "\n",
      "   KhoangCachTT            PhapLy   NgayDang  \n",
      "0      0.658194             Sổ đỏ 2024-04-15  \n",
      "1     14.086716           Sổ hồng 2024-05-02  \n",
      "2     11.948291  Hợp đồng mua bán 2023-06-20  \n",
      "3      0.044667  Hợp đồng mua bán 2024-07-26  \n",
      "4     16.074692           Sổ hồng 2024-04-19  \n"
     ]
    }
   ],
   "source": [
    "import numpy as np\n",
    "import pandas as pd\n",
    "\n",
    "# Bước 1: Thiết lập số lượng mẫu dữ liệu\n",
    "n_samples = 500\n",
    "\n",
    "# Bước 2: Tạo các đặc trưng ngẫu nhiên cho dữ liệu nhà đất\n",
    "data = {\n",
    "    'LoaiNha': np.random.choice(['Chung cư', 'Nhà đất', 'Biệt thự'], n_samples),  # Loại nhà\n",
    "    'DienTich': np.random.randint(30, 500, n_samples),  # Diện tích từ 30 đến 500 m²\n",
    "    'GiaBan': np.random.uniform(1, 20, n_samples) * 1e9,  # Giá bán từ 1 đến 20 tỷ đồng\n",
    "    'SoPhong': np.random.randint(1, 10, n_samples),  # Số phòng từ 1 đến 10\n",
    "    'SoTang': np.random.randint(1, 5, n_samples),  # Số tầng từ 1 đến 5\n",
    "    'HuongNha': np.random.choice(['Đông', 'Tây', 'Nam', 'Bắc'], n_samples),  # Hướng nhà\n",
    "    'NamXayDung': np.random.randint(1990, 2024, n_samples),  # Năm xây dựng từ 1990 đến 2023\n",
    "    'KhoangCachTT': np.random.uniform(0, 20, n_samples),  # Khoảng cách tới trung tâm (km)\n",
    "    'PhapLy': np.random.choice(['Sổ đỏ', 'Sổ hồng', 'Hợp đồng mua bán'], n_samples),  # Pháp lý\n",
    "    'NgayDang': pd.to_datetime(\n",
    "        np.random.choice(pd.date_range('2023-01-01', '2024-10-29'), n_samples)\n",
    "    )  # Ngày đăng tin\n",
    "}\n",
    "\n",
    "# Bước 3: Tạo DataFrame từ dữ liệu trên\n",
    "df = pd.DataFrame(data)\n",
    "\n",
    "# Bước 4: Lưu tập dữ liệu vào file CSV\n",
    "df.to_csv('hadong_housing.csv', index=False)\n",
    "print(\"Tập dữ liệu đã được lưu vào file hadong_housing.csv\")\n",
    "\n",
    "# Hiển thị một số dòng dữ liệu mẫu\n",
    "print(df.head())\n"
   ]
  },
  {
   "cell_type": "code",
   "execution_count": 9,
   "metadata": {},
   "outputs": [
    {
     "name": "stdout",
     "output_type": "stream",
     "text": [
      "Epoch 1/10\n"
     ]
    },
    {
     "name": "stderr",
     "output_type": "stream",
     "text": [
      "c:\\Users\\ADMIN\\anaconda3\\Lib\\site-packages\\keras\\src\\layers\\convolutional\\base_conv.py:107: UserWarning: Do not pass an `input_shape`/`input_dim` argument to a layer. When using Sequential models, prefer using an `Input(shape)` object as the first layer in the model instead.\n",
      "  super().__init__(activity_regularizer=activity_regularizer, **kwargs)\n"
     ]
    },
    {
     "name": "stdout",
     "output_type": "stream",
     "text": [
      "\u001b[1m13/13\u001b[0m \u001b[32m━━━━━━━━━━━━━━━━━━━━\u001b[0m\u001b[37m\u001b[0m \u001b[1m3s\u001b[0m 30ms/step - loss: 149502284878562983936.0000 - mae: 10758443008.0000 - val_loss: 146585298122259300352.0000 - val_mae: 10840829952.0000\n",
      "Epoch 2/10\n",
      "\u001b[1m13/13\u001b[0m \u001b[32m━━━━━━━━━━━━━━━━━━━━\u001b[0m\u001b[37m\u001b[0m \u001b[1m0s\u001b[0m 7ms/step - loss: 145202534706982158336.0000 - mae: 10614925312.0000 - val_loss: 146585298122259300352.0000 - val_mae: 10840829952.0000\n",
      "Epoch 3/10\n",
      "\u001b[1m13/13\u001b[0m \u001b[32m━━━━━━━━━━━━━━━━━━━━\u001b[0m\u001b[37m\u001b[0m \u001b[1m0s\u001b[0m 5ms/step - loss: 150577624842713956352.0000 - mae: 10874621952.0000 - val_loss: 146585298122259300352.0000 - val_mae: 10840829952.0000\n",
      "Epoch 4/10\n",
      "\u001b[1m13/13\u001b[0m \u001b[32m━━━━━━━━━━━━━━━━━━━━\u001b[0m\u001b[37m\u001b[0m \u001b[1m0s\u001b[0m 6ms/step - loss: 148649767542850584576.0000 - mae: 10776930304.0000 - val_loss: 146585298122259300352.0000 - val_mae: 10840829952.0000\n",
      "Epoch 5/10\n",
      "\u001b[1m13/13\u001b[0m \u001b[32m━━━━━━━━━━━━━━━━━━━━\u001b[0m\u001b[37m\u001b[0m \u001b[1m0s\u001b[0m 5ms/step - loss: 139133819859891126272.0000 - mae: 10432591872.0000 - val_loss: 146585298122259300352.0000 - val_mae: 10840829952.0000\n",
      "Epoch 6/10\n",
      "\u001b[1m13/13\u001b[0m \u001b[32m━━━━━━━━━━━━━━━━━━━━\u001b[0m\u001b[37m\u001b[0m \u001b[1m0s\u001b[0m 5ms/step - loss: 150051688848730095616.0000 - mae: 10806096896.0000 - val_loss: 146585298122259300352.0000 - val_mae: 10840829952.0000\n",
      "Epoch 7/10\n",
      "\u001b[1m13/13\u001b[0m \u001b[32m━━━━━━━━━━━━━━━━━━━━\u001b[0m\u001b[37m\u001b[0m \u001b[1m0s\u001b[0m 6ms/step - loss: 145871028980576944128.0000 - mae: 10651292672.0000 - val_loss: 146585298122259300352.0000 - val_mae: 10840829952.0000\n",
      "Epoch 8/10\n",
      "\u001b[1m13/13\u001b[0m \u001b[32m━━━━━━━━━━━━━━━━━━━━\u001b[0m\u001b[37m\u001b[0m \u001b[1m0s\u001b[0m 5ms/step - loss: 149960350218787487744.0000 - mae: 10798429184.0000 - val_loss: 146585298122259300352.0000 - val_mae: 10840829952.0000\n",
      "Epoch 9/10\n",
      "\u001b[1m13/13\u001b[0m \u001b[32m━━━━━━━━━━━━━━━━━━━━\u001b[0m\u001b[37m\u001b[0m \u001b[1m0s\u001b[0m 5ms/step - loss: 144044784147306119168.0000 - mae: 10595419136.0000 - val_loss: 146585298122259300352.0000 - val_mae: 10840829952.0000\n",
      "Epoch 10/10\n",
      "\u001b[1m13/13\u001b[0m \u001b[32m━━━━━━━━━━━━━━━━━━━━\u001b[0m\u001b[37m\u001b[0m \u001b[1m0s\u001b[0m 6ms/step - loss: 144826721632608321536.0000 - mae: 10572122112.0000 - val_loss: 146585298122259300352.0000 - val_mae: 10840829952.0000\n",
      "\u001b[1m4/4\u001b[0m \u001b[32m━━━━━━━━━━━━━━━━━━━━\u001b[0m\u001b[37m\u001b[0m \u001b[1m0s\u001b[0m 195us/step - loss: 148938437723653406720.0000 - mae: 10954380288.0000\n",
      "Model Loss: 1.465852981222593e+20, MAE: 10840829952.0\n",
      "\u001b[1m1/1\u001b[0m \u001b[32m━━━━━━━━━━━━━━━━━━━━\u001b[0m\u001b[37m\u001b[0m \u001b[1m0s\u001b[0m 96ms/step\n",
      "Giá trị dự đoán: 102.256103515625, Giá trị thực: 10108732897.867758\n"
     ]
    }
   ],
   "source": [
    "# Sử dụng CNN \n",
    "import numpy as np\n",
    "import pandas as pd\n",
    "from sklearn.model_selection import train_test_split\n",
    "from sklearn.preprocessing import StandardScaler\n",
    "from tensorflow.keras.models import Sequential\n",
    "from tensorflow.keras.layers import Conv1D, MaxPooling1D, Flatten, Dense, ReLU\n",
    "\n",
    "# Bước 1: Đọc dữ liệu từ file CSV\n",
    "df = pd.read_csv('hadong_housing.csv')\n",
    "\n",
    "# Bước 2: Xử lý dữ liệu\n",
    "# Mã hóa các biến phân loại thành số\n",
    "df['LoaiNha'] = df['LoaiNha'].astype('category').cat.codes\n",
    "df['HuongNha'] = df['HuongNha'].astype('category').cat.codes\n",
    "df['PhapLy'] = df['PhapLy'].astype('category').cat.codes\n",
    "\n",
    "# Chọn các đặc trưng và biến mục tiêu\n",
    "X = df.drop(['GiaBan', 'NgayDang'], axis=1)  # Đặc trưng\n",
    "y = df['GiaBan']  # Biến mục tiêu\n",
    "\n",
    "# Chia tập dữ liệu thành tập huấn luyện và kiểm tra\n",
    "X_train, X_test, y_train, y_test = train_test_split(X, y, test_size=0.2, random_state=42)\n",
    "\n",
    "# Chuẩn hóa dữ liệu (Standardization)\n",
    "scaler = StandardScaler()\n",
    "X_train = scaler.fit_transform(X_train)\n",
    "X_test = scaler.transform(X_test)\n",
    "\n",
    "# Thay đổi hình dạng dữ liệu cho Conv1D (số mẫu, bước thời gian, đặc trưng)\n",
    "X_train = X_train.reshape((X_train.shape[0], X_train.shape[1], 1))\n",
    "X_test = X_test.reshape((X_test.shape[0], X_test.shape[1], 1))\n",
    "\n",
    "# Bước 3: Xây dựng mô hình CNN\n",
    "model = Sequential([\n",
    "    Conv1D(32, kernel_size=3, input_shape=(X_train.shape[1], 1)),  # 1. Convolutional Layer\n",
    "    ReLU(),                                                        # 2. Activation Layer (ReLU)\n",
    "    MaxPooling1D(pool_size=2),                                      # 3. Pooling Layer\n",
    "    Flatten(),                                                     # 4. Flatten Layer\n",
    "    Dense(64, activation='relu'),                                  # 5. Fully Connected Layer 1\n",
    "    Dense(1)                                                       # Output Layer (Dự đoán giá)\n",
    "])\n",
    "\n",
    "# Biên dịch mô hình\n",
    "model.compile(optimizer='adam', loss='mean_squared_error', metrics=['mae'])\n",
    "\n",
    "# Bước 4: Huấn luyện mô hình\n",
    "model.fit(X_train, y_train, epochs=10, batch_size=32, validation_data=(X_test, y_test))\n",
    "\n",
    "# Bước 5: Đánh giá mô hình\n",
    "loss, mae = model.evaluate(X_test, y_test)\n",
    "print(f'Model Loss: {loss}, MAE: {mae}')\n",
    "\n",
    "# Bước 6: Dự đoán với dữ liệu mới (ví dụ dòng đầu tiên trong tập kiểm tra)\n",
    "y_pred = model.predict(X_test[:1])\n",
    "print(f'Giá trị dự đoán: {y_pred[0][0]}, Giá trị thực: {y_test.iloc[0]}')\n"
   ]
  },
  {
   "cell_type": "code",
   "execution_count": 10,
   "metadata": {},
   "outputs": [
    {
     "name": "stdout",
     "output_type": "stream",
     "text": [
      "Epoch 1/10\n"
     ]
    },
    {
     "name": "stderr",
     "output_type": "stream",
     "text": [
      "c:\\Users\\ADMIN\\anaconda3\\Lib\\site-packages\\keras\\src\\layers\\rnn\\rnn.py:204: UserWarning: Do not pass an `input_shape`/`input_dim` argument to a layer. When using Sequential models, prefer using an `Input(shape)` object as the first layer in the model instead.\n",
      "  super().__init__(**kwargs)\n"
     ]
    },
    {
     "name": "stdout",
     "output_type": "stream",
     "text": [
      "\u001b[1m13/13\u001b[0m \u001b[32m━━━━━━━━━━━━━━━━━━━━\u001b[0m\u001b[37m\u001b[0m \u001b[1m4s\u001b[0m 47ms/step - loss: 155312649677498744832.0000 - mae: 11170458624.0000 - val_loss: 146585298122259300352.0000 - val_mae: 10840829952.0000\n",
      "Epoch 2/10\n",
      "\u001b[1m13/13\u001b[0m \u001b[32m━━━━━━━━━━━━━━━━━━━━\u001b[0m\u001b[37m\u001b[0m \u001b[1m0s\u001b[0m 7ms/step - loss: 144892463631856304128.0000 - mae: 10656144384.0000 - val_loss: 146585298122259300352.0000 - val_mae: 10840829952.0000\n",
      "Epoch 3/10\n",
      "\u001b[1m13/13\u001b[0m \u001b[32m━━━━━━━━━━━━━━━━━━━━\u001b[0m\u001b[37m\u001b[0m \u001b[1m0s\u001b[0m 7ms/step - loss: 153639650376860827648.0000 - mae: 10961594368.0000 - val_loss: 146585298122259300352.0000 - val_mae: 10840829952.0000\n",
      "Epoch 4/10\n",
      "\u001b[1m13/13\u001b[0m \u001b[32m━━━━━━━━━━━━━━━━━━━━\u001b[0m\u001b[37m\u001b[0m \u001b[1m0s\u001b[0m 7ms/step - loss: 143225436878380466176.0000 - mae: 10527558656.0000 - val_loss: 146585298122259300352.0000 - val_mae: 10840829952.0000\n",
      "Epoch 5/10\n",
      "\u001b[1m13/13\u001b[0m \u001b[32m━━━━━━━━━━━━━━━━━━━━\u001b[0m\u001b[37m\u001b[0m \u001b[1m0s\u001b[0m 7ms/step - loss: 155509822898684559360.0000 - mae: 11102869504.0000 - val_loss: 146585298122259300352.0000 - val_mae: 10840829952.0000\n",
      "Epoch 6/10\n",
      "\u001b[1m13/13\u001b[0m \u001b[32m━━━━━━━━━━━━━━━━━━━━\u001b[0m\u001b[37m\u001b[0m \u001b[1m0s\u001b[0m 12ms/step - loss: 141499854533655789568.0000 - mae: 10483949568.0000 - val_loss: 146585298122259300352.0000 - val_mae: 10840829952.0000\n",
      "Epoch 7/10\n",
      "\u001b[1m13/13\u001b[0m \u001b[32m━━━━━━━━━━━━━━━━━━━━\u001b[0m\u001b[37m\u001b[0m \u001b[1m0s\u001b[0m 8ms/step - loss: 141077897155287449600.0000 - mae: 10325446656.0000 - val_loss: 146585298122259300352.0000 - val_mae: 10840829952.0000\n",
      "Epoch 8/10\n",
      "\u001b[1m13/13\u001b[0m \u001b[32m━━━━━━━━━━━━━━━━━━━━\u001b[0m\u001b[37m\u001b[0m \u001b[1m0s\u001b[0m 8ms/step - loss: 144833002043026178048.0000 - mae: 10670782464.0000 - val_loss: 146585298122259300352.0000 - val_mae: 10840829952.0000\n",
      "Epoch 9/10\n",
      "\u001b[1m13/13\u001b[0m \u001b[32m━━━━━━━━━━━━━━━━━━━━\u001b[0m\u001b[37m\u001b[0m \u001b[1m0s\u001b[0m 9ms/step - loss: 152008538071194664960.0000 - mae: 10955942912.0000 - val_loss: 146585298122259300352.0000 - val_mae: 10840829952.0000\n",
      "Epoch 10/10\n",
      "\u001b[1m13/13\u001b[0m \u001b[32m━━━━━━━━━━━━━━━━━━━━\u001b[0m\u001b[37m\u001b[0m \u001b[1m0s\u001b[0m 7ms/step - loss: 151407641772475547648.0000 - mae: 10833107968.0000 - val_loss: 146585298122259300352.0000 - val_mae: 10840829952.0000\n",
      "\u001b[1m4/4\u001b[0m \u001b[32m━━━━━━━━━━━━━━━━━━━━\u001b[0m\u001b[37m\u001b[0m \u001b[1m0s\u001b[0m 0s/step - loss: 148938437723653406720.0000 - mae: 10954380288.0000  \n",
      "Model Loss: 1.465852981222593e+20, MAE: 10840829952.0\n",
      "WARNING:tensorflow:5 out of the last 5 calls to <function TensorFlowTrainer.make_predict_function.<locals>.one_step_on_data_distributed at 0x0000026D18E668E0> triggered tf.function retracing. Tracing is expensive and the excessive number of tracings could be due to (1) creating @tf.function repeatedly in a loop, (2) passing tensors with different shapes, (3) passing Python objects instead of tensors. For (1), please define your @tf.function outside of the loop. For (2), @tf.function has reduce_retracing=True option that can avoid unnecessary retracing. For (3), please refer to https://www.tensorflow.org/guide/function#controlling_retracing and https://www.tensorflow.org/api_docs/python/tf/function for  more details.\n",
      "\u001b[1m1/1\u001b[0m \u001b[32m━━━━━━━━━━━━━━━━━━━━\u001b[0m\u001b[37m\u001b[0m \u001b[1m0s\u001b[0m 344ms/step\n",
      "Giá trị dự đoán: 64 VNĐ, Giá trị thực: 10,108,732,898 VNĐ\n"
     ]
    }
   ],
   "source": [
    "# Code mô hình RNN cho dữ liệu nhà đất Hà Đông\n",
    "import numpy as np\n",
    "import pandas as pd\n",
    "from sklearn.model_selection import train_test_split\n",
    "from sklearn.preprocessing import StandardScaler\n",
    "from tensorflow.keras.models import Sequential\n",
    "from tensorflow.keras.layers import SimpleRNN, Dense\n",
    "\n",
    "# Bước 1: Đọc dữ liệu từ file CSV\n",
    "df = pd.read_csv('hadong_housing.csv')\n",
    "\n",
    "# Bước 2: Xử lý dữ liệu\n",
    "# Mã hóa các biến phân loại thành số\n",
    "df['LoaiNha'] = df['LoaiNha'].astype('category').cat.codes\n",
    "df['HuongNha'] = df['HuongNha'].astype('category').cat.codes\n",
    "df['PhapLy'] = df['PhapLy'].astype('category').cat.codes\n",
    "\n",
    "# Chọn đặc trưng và biến mục tiêu\n",
    "X = df.drop(['GiaBan', 'NgayDang'], axis=1)  # Các đặc trưng\n",
    "y = df['GiaBan']  # Giá bán (biến mục tiêu)\n",
    "\n",
    "# Chia tập dữ liệu thành tập huấn luyện và kiểm tra\n",
    "X_train, X_test, y_train, y_test = train_test_split(X, y, test_size=0.2, random_state=42)\n",
    "\n",
    "# Chuẩn hóa dữ liệu để cải thiện hiệu suất mô hình\n",
    "scaler = StandardScaler()\n",
    "X_train = scaler.fit_transform(X_train)\n",
    "X_test = scaler.transform(X_test)\n",
    "\n",
    "# Thay đổi hình dạng dữ liệu cho SimpleRNN (số mẫu, bước thời gian, đặc trưng)\n",
    "X_train = X_train.reshape((X_train.shape[0], X_train.shape[1], 1))\n",
    "X_test = X_test.reshape((X_test.shape[0], X_test.shape[1], 1))\n",
    "\n",
    "# Bước 3: Xây dựng mô hình RNN\n",
    "model = Sequential([\n",
    "    SimpleRNN(50, input_shape=(X_train.shape[1], 1), activation='tanh'),  # 1. Simple RNN Layer\n",
    "    Dense(64, activation='relu'),                                         # 2. Dense Layer\n",
    "    Dense(1)                                                              # 3. Output Layer\n",
    "])\n",
    "\n",
    "# Bước 4: Biên dịch mô hình\n",
    "model.compile(optimizer='adam', loss='mean_squared_error', metrics=['mae'])\n",
    "\n",
    "# Bước 5: Huấn luyện mô hình\n",
    "model.fit(X_train, y_train, epochs=10, batch_size=32, validation_data=(X_test, y_test))\n",
    "\n",
    "# Bước 6: Đánh giá mô hình\n",
    "loss, mae = model.evaluate(X_test, y_test)\n",
    "print(f'Model Loss: {loss}, MAE: {mae}')\n",
    "\n",
    "# Bước 7: Dự đoán với dữ liệu mới\n",
    "y_pred = model.predict(X_test[:1])\n",
    "print(f'Giá trị dự đoán: {y_pred[0][0]:,.0f} VNĐ, Giá trị thực: {y_test.iloc[0]:,.0f} VNĐ')\n"
   ]
  },
  {
   "cell_type": "code",
   "execution_count": 12,
   "metadata": {},
   "outputs": [
    {
     "name": "stdout",
     "output_type": "stream",
     "text": [
      "Epoch 1/10\n"
     ]
    },
    {
     "name": "stderr",
     "output_type": "stream",
     "text": [
      "c:\\Users\\ADMIN\\anaconda3\\Lib\\site-packages\\keras\\src\\layers\\rnn\\rnn.py:204: UserWarning: Do not pass an `input_shape`/`input_dim` argument to a layer. When using Sequential models, prefer using an `Input(shape)` object as the first layer in the model instead.\n",
      "  super().__init__(**kwargs)\n"
     ]
    },
    {
     "name": "stdout",
     "output_type": "stream",
     "text": [
      "\u001b[1m13/13\u001b[0m \u001b[32m━━━━━━━━━━━━━━━━━━━━\u001b[0m\u001b[37m\u001b[0m \u001b[1m5s\u001b[0m 62ms/step - loss: 151147664447111168000.0000 - mae: 10953623552.0000 - val_loss: 146585298122259300352.0000 - val_mae: 10840829952.0000\n",
      "Epoch 2/10\n",
      "\u001b[1m13/13\u001b[0m \u001b[32m━━━━━━━━━━━━━━━━━━━━\u001b[0m\u001b[37m\u001b[0m \u001b[1m0s\u001b[0m 9ms/step - loss: 149317830807887282176.0000 - mae: 10773913600.0000 - val_loss: 146585298122259300352.0000 - val_mae: 10840829952.0000\n",
      "Epoch 3/10\n",
      "\u001b[1m13/13\u001b[0m \u001b[32m━━━━━━━━━━━━━━━━━━━━\u001b[0m\u001b[37m\u001b[0m \u001b[1m0s\u001b[0m 10ms/step - loss: 149593130927296348160.0000 - mae: 10866712576.0000 - val_loss: 146585298122259300352.0000 - val_mae: 10840829952.0000\n",
      "Epoch 4/10\n",
      "\u001b[1m13/13\u001b[0m \u001b[32m━━━━━━━━━━━━━━━━━━━━\u001b[0m\u001b[37m\u001b[0m \u001b[1m0s\u001b[0m 15ms/step - loss: 149494896160424329216.0000 - mae: 10807651328.0000 - val_loss: 146585298122259300352.0000 - val_mae: 10840829952.0000\n",
      "Epoch 5/10\n",
      "\u001b[1m13/13\u001b[0m \u001b[32m━━━━━━━━━━━━━━━━━━━━\u001b[0m\u001b[37m\u001b[0m \u001b[1m0s\u001b[0m 16ms/step - loss: 145511752561084858368.0000 - mae: 10682362880.0000 - val_loss: 146585298122259300352.0000 - val_mae: 10840829952.0000\n",
      "Epoch 6/10\n",
      "\u001b[1m13/13\u001b[0m \u001b[32m━━━━━━━━━━━━━━━━━━━━\u001b[0m\u001b[37m\u001b[0m \u001b[1m0s\u001b[0m 10ms/step - loss: 149013222106528219136.0000 - mae: 10812219392.0000 - val_loss: 146585298122259300352.0000 - val_mae: 10840829952.0000\n",
      "Epoch 7/10\n",
      "\u001b[1m13/13\u001b[0m \u001b[32m━━━━━━━━━━━━━━━━━━━━\u001b[0m\u001b[37m\u001b[0m \u001b[1m0s\u001b[0m 9ms/step - loss: 153225864568910118912.0000 - mae: 10940098560.0000 - val_loss: 146585298122259300352.0000 - val_mae: 10840829952.0000\n",
      "Epoch 8/10\n",
      "\u001b[1m13/13\u001b[0m \u001b[32m━━━━━━━━━━━━━━━━━━━━\u001b[0m\u001b[37m\u001b[0m \u001b[1m0s\u001b[0m 9ms/step - loss: 150062771925938077696.0000 - mae: 10841995264.0000 - val_loss: 146585298122259300352.0000 - val_mae: 10840829952.0000\n",
      "Epoch 9/10\n",
      "\u001b[1m13/13\u001b[0m \u001b[32m━━━━━━━━━━━━━━━━━━━━\u001b[0m\u001b[37m\u001b[0m \u001b[1m0s\u001b[0m 10ms/step - loss: 150881864108166086656.0000 - mae: 10850746368.0000 - val_loss: 146585298122259300352.0000 - val_mae: 10840829952.0000\n",
      "Epoch 10/10\n",
      "\u001b[1m13/13\u001b[0m \u001b[32m━━━━━━━━━━━━━━━━━━━━\u001b[0m\u001b[37m\u001b[0m \u001b[1m0s\u001b[0m 9ms/step - loss: 146945084715146674176.0000 - mae: 10683330560.0000 - val_loss: 146585298122259300352.0000 - val_mae: 10840829952.0000\n",
      "\u001b[1m4/4\u001b[0m \u001b[32m━━━━━━━━━━━━━━━━━━━━\u001b[0m\u001b[37m\u001b[0m \u001b[1m0s\u001b[0m 0s/step - loss: 148938437723653406720.0000 - mae: 10954380288.0000  \n",
      "Model Loss: 1.465852981222593e+20, MAE: 10840829952.0\n",
      "WARNING:tensorflow:6 out of the last 6 calls to <function TensorFlowTrainer.make_predict_function.<locals>.one_step_on_data_distributed at 0x0000026D18F62DE0> triggered tf.function retracing. Tracing is expensive and the excessive number of tracings could be due to (1) creating @tf.function repeatedly in a loop, (2) passing tensors with different shapes, (3) passing Python objects instead of tensors. For (1), please define your @tf.function outside of the loop. For (2), @tf.function has reduce_retracing=True option that can avoid unnecessary retracing. For (3), please refer to https://www.tensorflow.org/guide/function#controlling_retracing and https://www.tensorflow.org/api_docs/python/tf/function for  more details.\n",
      "\u001b[1m1/1\u001b[0m \u001b[32m━━━━━━━━━━━━━━━━━━━━\u001b[0m\u001b[37m\u001b[0m \u001b[1m0s\u001b[0m 276ms/step\n",
      "Giá trị dự đoán: 124 VNĐ, Giá trị thực: 10,108,732,898 VNĐ\n"
     ]
    }
   ],
   "source": [
    "# Code mô hình LSTM cho dữ liệu nhà đất Hà Đông\n",
    "import numpy as np\n",
    "import pandas as pd\n",
    "from sklearn.model_selection import train_test_split\n",
    "from sklearn.preprocessing import StandardScaler\n",
    "from tensorflow.keras.models import Sequential\n",
    "from tensorflow.keras.layers import LSTM, Dense\n",
    "\n",
    "# Bước 1: Đọc dữ liệu từ file CSV\n",
    "df = pd.read_csv('hadong_housing.csv')\n",
    "\n",
    "# Bước 2: Xử lý dữ liệu\n",
    "# Mã hóa các biến phân loại thành số\n",
    "df['LoaiNha'] = df['LoaiNha'].astype('category').cat.codes\n",
    "df['HuongNha'] = df['HuongNha'].astype('category').cat.codes\n",
    "df['PhapLy'] = df['PhapLy'].astype('category').cat.codes\n",
    "\n",
    "# Chọn đặc trưng và biến mục tiêu\n",
    "X = df.drop(['GiaBan', 'NgayDang'], axis=1)  # Các đặc trưng\n",
    "y = df['GiaBan']  # Giá bán (biến mục tiêu)\n",
    "\n",
    "# Chia tập dữ liệu thành tập huấn luyện và kiểm tra\n",
    "X_train, X_test, y_train, y_test = train_test_split(X, y, test_size=0.2, random_state=42)\n",
    "\n",
    "# Chuẩn hóa dữ liệu\n",
    "scaler = StandardScaler()\n",
    "X_train = scaler.fit_transform(X_train)\n",
    "X_test = scaler.transform(X_test)\n",
    "\n",
    "# Định hình dữ liệu cho LSTM (số mẫu, bước thời gian, đặc trưng)\n",
    "X_train = X_train.reshape((X_train.shape[0], X_train.shape[1], 1))\n",
    "X_test = X_test.reshape((X_test.shape[0], X_test.shape[1], 1))\n",
    "\n",
    "# Bước 3: Xây dựng mô hình LSTM\n",
    "model = Sequential([\n",
    "    LSTM(50, activation='tanh', input_shape=(X_train.shape[1], 1)),  # 1. LSTM Layer\n",
    "    Dense(64, activation='relu'),                                    # 2. Dense Layer\n",
    "    Dense(1)                                                         # 3. Output Layer\n",
    "])\n",
    "\n",
    "# Bước 4: Biên dịch mô hình\n",
    "model.compile(optimizer='adam', loss='mean_squared_error', metrics=['mae'])\n",
    "\n",
    "# Bước 5: Huấn luyện mô hình\n",
    "model.fit(X_train, y_train, epochs=10, batch_size=32, validation_data=(X_test, y_test))\n",
    "\n",
    "# Bước 6: Đánh giá mô hình\n",
    "loss, mae = model.evaluate(X_test, y_test)\n",
    "print(f'Model Loss: {loss}, MAE: {mae}')\n",
    "\n",
    "# Bước 7: Dự đoán với dữ liệu mới\n",
    "y_pred = model.predict(X_test[:1])\n",
    "print(f'Giá trị dự đoán: {y_pred[0][0]:,.0f} VNĐ, Giá trị thực: {y_test.iloc[0]:,.0f} VNĐ')\n"
   ]
  },
  {
   "cell_type": "code",
   "execution_count": null,
   "metadata": {},
   "outputs": [],
   "source": []
  },
  {
   "cell_type": "code",
   "execution_count": 14,
   "metadata": {},
   "outputs": [
    {
     "name": "stderr",
     "output_type": "stream",
     "text": [
      "c:\\Users\\ADMIN\\anaconda3\\Lib\\site-packages\\keras\\src\\layers\\convolutional\\base_conv.py:107: UserWarning: Do not pass an `input_shape`/`input_dim` argument to a layer. When using Sequential models, prefer using an `Input(shape)` object as the first layer in the model instead.\n",
      "  super().__init__(activity_regularizer=activity_regularizer, **kwargs)\n"
     ]
    },
    {
     "name": "stdout",
     "output_type": "stream",
     "text": [
      "CNN - Loss: 146585298122259300352.0000, MAE: 10840829952.0000, MSE: 146585298122259300352.0000\n"
     ]
    },
    {
     "name": "stderr",
     "output_type": "stream",
     "text": [
      "c:\\Users\\ADMIN\\anaconda3\\Lib\\site-packages\\keras\\src\\layers\\rnn\\rnn.py:204: UserWarning: Do not pass an `input_shape`/`input_dim` argument to a layer. When using Sequential models, prefer using an `Input(shape)` object as the first layer in the model instead.\n",
      "  super().__init__(**kwargs)\n"
     ]
    },
    {
     "name": "stdout",
     "output_type": "stream",
     "text": [
      "RNN - Loss: 146585298122259300352.0000, MAE: 10840829952.0000, MSE: 146585298122259300352.0000\n"
     ]
    },
    {
     "name": "stderr",
     "output_type": "stream",
     "text": [
      "c:\\Users\\ADMIN\\anaconda3\\Lib\\site-packages\\keras\\src\\layers\\rnn\\rnn.py:204: UserWarning: Do not pass an `input_shape`/`input_dim` argument to a layer. When using Sequential models, prefer using an `Input(shape)` object as the first layer in the model instead.\n",
      "  super().__init__(**kwargs)\n"
     ]
    },
    {
     "name": "stdout",
     "output_type": "stream",
     "text": [
      "LSTM - Loss: 146585298122259300352.0000, MAE: 10840829952.0000, MSE: 146585298122259300352.0000\n"
     ]
    },
    {
     "data": {
      "image/png": "[encoded data removed]",
      "text/plain": [
       "<Figure size 1800x500 with 3 Axes>"
      ]
     },
     "metadata": {},
     "output_type": "display_data"
    }
   ],
   "source": [
    "# So sánh 3 mô hình\n",
    "import numpy as np\n",
    "import pandas as pd\n",
    "from sklearn.model_selection import train_test_split\n",
    "from sklearn.preprocessing import StandardScaler\n",
    "from tensorflow.keras.models import Sequential\n",
    "from tensorflow.keras.layers import Conv1D, MaxPooling1D, Flatten, SimpleRNN, LSTM, Dense, ReLU\n",
    "import matplotlib.pyplot as plt\n",
    "\n",
    "# Bước 1: Đọc dữ liệu từ file CSV\n",
    "df = pd.read_csv('hadong_housing.csv')\n",
    "\n",
    "# Bước 2: Xử lý dữ liệu\n",
    "df['LoaiNha'] = df['LoaiNha'].astype('category').cat.codes\n",
    "df['HuongNha'] = df['HuongNha'].astype('category').cat.codes\n",
    "df['PhapLy'] = df['PhapLy'].astype('category').cat.codes\n",
    "\n",
    "# Chọn đặc trưng và biến mục tiêu\n",
    "X = df.drop(['GiaBan', 'NgayDang'], axis=1)\n",
    "y = df['GiaBan']\n",
    "\n",
    "# Chia dữ liệu thành tập huấn luyện và kiểm tra\n",
    "X_train, X_test, y_train, y_test = train_test_split(X, y, test_size=0.2, random_state=42)\n",
    "\n",
    "# Chuẩn hóa dữ liệu\n",
    "scaler = StandardScaler()\n",
    "X_train = scaler.fit_transform(X_train)\n",
    "X_test = scaler.transform(X_test)\n",
    "\n",
    "# Định hình dữ liệu cho các mô hình\n",
    "X_train_reshaped = X_train.reshape((X_train.shape[0], X_train.shape[1], 1))\n",
    "X_test_reshaped = X_test.reshape((X_test.shape[0], X_test.shape[1], 1))\n",
    "\n",
    "# Hàm huấn luyện và đánh giá mô hình\n",
    "def train_and_evaluate(model, X_train, y_train, X_test, y_test, model_name):\n",
    "    model.compile(optimizer='adam', loss='mean_squared_error', metrics=['mae', 'mse'])\n",
    "    history = model.fit(X_train, y_train, epochs=10, batch_size=32, verbose=0)\n",
    "    loss, mae, mse = model.evaluate(X_test, y_test, verbose=0)\n",
    "    print(f'{model_name} - Loss: {loss:.4f}, MAE: {mae:.4f}, MSE: {mse:.4f}')\n",
    "    return loss, mae, mse\n",
    "\n",
    "# Xây dựng và đánh giá mô hình CNN\n",
    "cnn_model = Sequential([\n",
    "    Conv1D(32, 3, input_shape=(X_train.shape[1], 1)),\n",
    "    ReLU(),\n",
    "    MaxPooling1D(pool_size=2),\n",
    "    Flatten(),\n",
    "    Dense(1)\n",
    "])\n",
    "cnn_loss, cnn_mae, cnn_mse = train_and_evaluate(cnn_model, X_train_reshaped, y_train, X_test_reshaped, y_test, 'CNN')\n",
    "\n",
    "# Xây dựng và đánh giá mô hình RNN\n",
    "rnn_model = Sequential([\n",
    "    SimpleRNN(50, activation='tanh', input_shape=(X_train.shape[1], 1)),\n",
    "    Dense(1)\n",
    "])\n",
    "rnn_loss, rnn_mae, rnn_mse = train_and_evaluate(rnn_model, X_train_reshaped, y_train, X_test_reshaped, y_test, 'RNN')\n",
    "\n",
    "# Xây dựng và đánh giá mô hình LSTM\n",
    "lstm_model = Sequential([\n",
    "    LSTM(50, activation='tanh', input_shape=(X_train.shape[1], 1)),\n",
    "    Dense(1)\n",
    "])\n",
    "lstm_loss, lstm_mae, lstm_mse = train_and_evaluate(lstm_model, X_train_reshaped, y_train, X_test_reshaped, y_test, 'LSTM')\n",
    "\n",
    "# So sánh các mô hình bằng biểu đồ\n",
    "models = ['CNN', 'RNN', 'LSTM']\n",
    "loss_values = [cnn_loss, rnn_loss, lstm_loss]\n",
    "mae_values = [cnn_mae, rnn_mae, lstm_mae]\n",
    "mse_values = [cnn_mse, rnn_mse, lstm_mse]\n",
    "\n",
    "# Khởi tạo biểu đồ\n",
    "fig, ax = plt.subplots(1, 3, figsize=(18, 5))\n",
    "\n",
    "# Biểu đồ cột cho Loss\n",
    "ax[0].bar(models, loss_values, color=['skyblue', 'lightcoral', 'palegreen'])\n",
    "ax[0].set_title('So sánh Loss giữa các mô hình')\n",
    "ax[0].set_xlabel('Mô hình')\n",
    "ax[0].set_ylabel('Loss')\n",
    "\n",
    "# Biểu đồ cột cho MAE\n",
    "ax[1].bar(models, mae_values, color=['skyblue', 'lightcoral', 'palegreen'])\n",
    "ax[1].set_title('So sánh MAE giữa các mô hình')\n",
    "ax[1].set_xlabel('Mô hình')\n",
    "ax[1].set_ylabel('MAE')\n",
    "\n",
    "# Biểu đồ cột cho MSE\n",
    "ax[2].bar(models, mse_values, color=['skyblue', 'lightcoral', 'palegreen'])\n",
    "ax[2].set_title('So sánh MSE giữa các mô hình')\n",
    "ax[2].set_xlabel('Mô hình')\n",
    "ax[2].set_ylabel('MSE')\n",
    "\n",
    "# Tùy chỉnh và hiển thị biểu đồ\n",
    "plt.tight_layout()\n",
    "plt.show()\n"
   ]
  }
 ],
 "metadata": {
  "kernelspec": {
   "display_name": "base",
   "language": "python",
   "name": "python3"
  },
  "language_info": {
   "codemirror_mode": {
    "name": "ipython",
    "version": 3
   },
   "file_extension": ".py",
   "mimetype": "text/x-python",
   "name": "python",
   "nbconvert_exporter": "python",
   "pygments_lexer": "ipython3",
   "version": "3.12.4"
  }
 },
 "nbformat": 4,
 "nbformat_minor": 2
}
